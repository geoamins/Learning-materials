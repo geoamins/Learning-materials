{
 "cells": [
  {
   "cell_type": "code",
   "execution_count": null,
   "id": "b55aa06c-a7f4-4b4a-bb16-e7bf7a6ad94b",
   "metadata": {},
   "outputs": [],
   "source": [
    "## List Comprehension\n",
    "it offers a shorter syntax when you want to create a new list based on the values of an existing lsit. "
   ]
  },
  {
   "cell_type": "code",
   "execution_count": 17,
   "id": "e5642b23",
   "metadata": {},
   "outputs": [
    {
     "name": "stdout",
     "output_type": "stream",
     "text": [
      "['a']\n"
     ]
    }
   ],
   "source": [
    "t1=['a','b','c']\n",
    "t2=[]\n",
    "\n",
    "for i in t1:\n",
    "    if \"a\" in i:\n",
    "        t2.append(i)\n",
    "print(t2)"
   ]
  },
  {
   "cell_type": "code",
   "execution_count": 35,
   "id": "343f1887-6827-41dd-ae59-e3c2cebbaa2c",
   "metadata": {},
   "outputs": [
    {
     "name": "stdout",
     "output_type": "stream",
     "text": [
      "['a']\n"
     ]
    }
   ],
   "source": [
    "t2=[]\n",
    "t2=[j for j in t1 if \"a\" in j]    # new list item = [expr for item in iterable if condition==True]\n",
    "                                  # expr hold the value return the item if it is satisfying the conditions\n",
    "                                  # [output         Collection                 Condition]\n",
    "                                  # [x+1            for x in range(5)          if x%2 == 2]\n",
    "                                  # [Do this        for this collection        to this situation]\n",
    "print(t2)"
   ]
  },
  {
   "cell_type": "code",
   "execution_count": 19,
   "id": "fd2f89d8-105a-4924-9db6-1401cc99b7f0",
   "metadata": {},
   "outputs": [
    {
     "name": "stdout",
     "output_type": "stream",
     "text": [
      "['b', 'c']\n"
     ]
    }
   ],
   "source": [
    "t2=[]\n",
    "t2=[i for i in t1 if i !=\"a\"]\n",
    "print(t2)"
   ]
  },
  {
   "cell_type": "code",
   "execution_count": 20,
   "id": "6fff5eab-9198-4cf2-afd3-44d4369f4ea6",
   "metadata": {},
   "outputs": [
    {
     "name": "stdout",
     "output_type": "stream",
     "text": [
      "['a', 'b', 'c']\n"
     ]
    }
   ],
   "source": [
    "t2=[]\n",
    "t2=[i for i in t1]\n",
    "print(t2)"
   ]
  },
  {
   "cell_type": "code",
   "execution_count": 21,
   "id": "36962f3c-1c59-495c-a597-992d804495f3",
   "metadata": {},
   "outputs": [
    {
     "name": "stdout",
     "output_type": "stream",
     "text": [
      "[0, 1, 2, 3, 4, 5, 6, 7, 8, 9]\n"
     ]
    }
   ],
   "source": [
    "t2=[]\n",
    "t2=[i for i in range(10)]\n",
    "print(t2)"
   ]
  },
  {
   "cell_type": "code",
   "execution_count": 24,
   "id": "373df0cd-1e5d-4e68-9b4b-69516290c29e",
   "metadata": {},
   "outputs": [
    {
     "name": "stdout",
     "output_type": "stream",
     "text": [
      "[0, 1, 2, 3, 4]\n"
     ]
    }
   ],
   "source": [
    "t2=[i for i in range(10) if i<5]\n",
    "print(t2)"
   ]
  },
  {
   "cell_type": "code",
   "execution_count": 25,
   "id": "ccca2e0a-3f47-427f-b269-5e31c33f5bfb",
   "metadata": {},
   "outputs": [
    {
     "name": "stdout",
     "output_type": "stream",
     "text": [
      "['A', 'B', 'C']\n"
     ]
    }
   ],
   "source": [
    "t2=[i.upper() for i in t1]\n",
    "print(t2)"
   ]
  },
  {
   "cell_type": "code",
   "execution_count": 26,
   "id": "77f5fd02-35df-485c-b1ad-b3e61d2b03f1",
   "metadata": {},
   "outputs": [
    {
     "name": "stdout",
     "output_type": "stream",
     "text": [
      "['hello', 'hello', 'hello']\n"
     ]
    }
   ],
   "source": [
    "t2=[]\n",
    "t2=['hello' for i in t1]\n",
    "print(t2)"
   ]
  },
  {
   "cell_type": "code",
   "execution_count": 28,
   "id": "f48dd152-31d9-4787-824a-2f948ce27352",
   "metadata": {},
   "outputs": [
    {
     "name": "stdout",
     "output_type": "stream",
     "text": [
      "Ok\n"
     ]
    }
   ],
   "source": [
    "a=10 \n",
    "if a<=10:\n",
    "    print('Ok')\n",
    "else:\n",
    "    print(\"sorry\")"
   ]
  },
  {
   "cell_type": "code",
   "execution_count": 32,
   "id": "25387705-59bd-4789-a8e0-ed31a26b06ea",
   "metadata": {},
   "outputs": [
    {
     "name": "stdout",
     "output_type": "stream",
     "text": [
      "Ok\n"
     ]
    }
   ],
   "source": [
    "result= \"Ok\" if a<=10 else \"sorry\"\n",
    "print(result)"
   ]
  }
 ],
 "metadata": {
  "kernelspec": {
   "display_name": "Python 3 (ipykernel)",
   "language": "python",
   "name": "python3"
  },
  "language_info": {
   "codemirror_mode": {
    "name": "ipython",
    "version": 3
   },
   "file_extension": ".py",
   "mimetype": "text/x-python",
   "name": "python",
   "nbconvert_exporter": "python",
   "pygments_lexer": "ipython3",
   "version": "3.10.11"
  }
 },
 "nbformat": 4,
 "nbformat_minor": 5
}
