{
 "cells": [
  {
   "cell_type": "code",
   "execution_count": 37,
   "id": "7e327c60",
   "metadata": {},
   "outputs": [
    {
     "name": "stdout",
     "output_type": "stream",
     "text": [
      "Requirement already satisfied: pip in d:\\installed\\anaconda\\lib\\site-packages (23.3.1)\n",
      "Collecting pip\n",
      "  Downloading pip-23.3.2-py3-none-any.whl.metadata (3.5 kB)\n",
      "Downloading pip-23.3.2-py3-none-any.whl (2.1 MB)\n",
      "   ---------------------------------------- 0.0/2.1 MB ? eta -:--:--\n",
      "   ---------------------------------------- 0.0/2.1 MB ? eta -:--:--\n",
      "   ---------------------------------------- 0.0/2.1 MB ? eta -:--:--\n",
      "   ---------------------------------------- 0.0/2.1 MB ? eta -:--:--\n",
      "   ---------------------------------------- 0.0/2.1 MB ? eta -:--:--\n",
      "   - -------------------------------------- 0.1/2.1 MB 383.3 kB/s eta 0:00:06\n",
      "   --- ------------------------------------ 0.2/2.1 MB 579.6 kB/s eta 0:00:04\n",
      "   ----- ---------------------------------- 0.3/2.1 MB 934.1 kB/s eta 0:00:02\n",
      "   ------- -------------------------------- 0.4/2.1 MB 1.1 MB/s eta 0:00:02\n",
      "   ------- -------------------------------- 0.4/2.1 MB 1.1 MB/s eta 0:00:02\n",
      "   ------- -------------------------------- 0.4/2.1 MB 1.1 MB/s eta 0:00:02\n",
      "   --------- ------------------------------ 0.5/2.1 MB 962.6 kB/s eta 0:00:02\n",
      "   ----------- ---------------------------- 0.6/2.1 MB 1.1 MB/s eta 0:00:02\n",
      "   ------------- -------------------------- 0.7/2.1 MB 1.2 MB/s eta 0:00:02\n",
      "   --------------- ------------------------ 0.8/2.1 MB 1.3 MB/s eta 0:00:01\n",
      "   --------------- ------------------------ 0.8/2.1 MB 1.3 MB/s eta 0:00:01\n",
      "   --------------- ------------------------ 0.8/2.1 MB 1.3 MB/s eta 0:00:01\n",
      "   ------------------ --------------------- 1.0/2.1 MB 1.2 MB/s eta 0:00:01\n",
      "   --------------------- ------------------ 1.1/2.1 MB 1.4 MB/s eta 0:00:01\n",
      "   ------------------------ --------------- 1.3/2.1 MB 1.4 MB/s eta 0:00:01\n",
      "   -------------------------- ------------- 1.4/2.1 MB 1.5 MB/s eta 0:00:01\n",
      "   ---------------------------- ----------- 1.5/2.1 MB 1.6 MB/s eta 0:00:01\n",
      "   ------------------------------ --------- 1.6/2.1 MB 1.6 MB/s eta 0:00:01\n",
      "   --------------------------------- ------ 1.8/2.1 MB 1.7 MB/s eta 0:00:01\n",
      "   ----------------------------------- ---- 1.9/2.1 MB 1.7 MB/s eta 0:00:01\n",
      "   -------------------------------------- - 2.0/2.1 MB 1.8 MB/s eta 0:00:01\n",
      "   ---------------------------------------- 2.1/2.1 MB 1.8 MB/s eta 0:00:00\n",
      "Installing collected packages: pip\n",
      "  Attempting uninstall: pip\n",
      "    Found existing installation: pip 23.3.1\n",
      "    Uninstalling pip-23.3.1:\n",
      "      Successfully uninstalled pip-23.3.1\n",
      "Successfully installed pip-23.3.2\n"
     ]
    }
   ],
   "source": [
    "!python.exe -m pip install --upgrade pip"
   ]
  },
  {
   "cell_type": "code",
   "execution_count": 89,
   "id": "b0ab10df",
   "metadata": {},
   "outputs": [
    {
     "name": "stdout",
     "output_type": "stream",
     "text": [
      "Requirement already satisfied: mysql-connector in d:\\installed\\anaconda\\lib\\site-packages (2.2.9)\n"
     ]
    }
   ],
   "source": [
    "!pip install mysql-connector"
   ]
  },
  {
   "cell_type": "code",
   "execution_count": 1,
   "id": "a63622bd",
   "metadata": {},
   "outputs": [],
   "source": [
    "import mysql.connector"
   ]
  },
  {
   "cell_type": "markdown",
   "id": "0185e994",
   "metadata": {},
   "source": [
    "#### Creating Connection b/w python and mysql"
   ]
  },
  {
   "cell_type": "code",
   "execution_count": 14,
   "id": "1afdab5a",
   "metadata": {},
   "outputs": [
    {
     "name": "stdout",
     "output_type": "stream",
     "text": [
      "<mysql.connector.connection.MySQLConnection object at 0x000001B5F9BBCBE0>\n"
     ]
    }
   ],
   "source": [
    "mydb = mysql.connector.connect( \n",
    "    host=\"localhost\", \n",
    "    user=\"root\", \n",
    "    passwd=\"\",\n",
    ") \n",
    "print(mydb)"
   ]
  },
  {
   "cell_type": "markdown",
   "id": "712edc14",
   "metadata": {},
   "source": [
    "#### Creating a new database in mysql server"
   ]
  },
  {
   "cell_type": "code",
   "execution_count": 15,
   "id": "41a3564b",
   "metadata": {},
   "outputs": [],
   "source": [
    "mycursor = mydb.cursor() \n",
    "mycursor.execute(\"create DATABASE datascience\") "
   ]
  },
  {
   "cell_type": "markdown",
   "id": "1ed36dde",
   "metadata": {},
   "source": [
    "#### list all database to check whether the database is create or not"
   ]
  },
  {
   "cell_type": "code",
   "execution_count": 16,
   "id": "f235ba62",
   "metadata": {},
   "outputs": [
    {
     "name": "stdout",
     "output_type": "stream",
     "text": [
      "('amazing_hrm_payroll',)\n",
      "('ber',)\n",
      "('ber_new',)\n",
      "('businessfest',)\n",
      "('cmdhmsedu_db',)\n",
      "('dams',)\n",
      "('datascience',)\n",
      "('firebase',)\n",
      "('fpma',)\n",
      "('fpma13may23',)\n",
      "('fpma_cms',)\n",
      "('fpma_online',)\n",
      "('hms',)\n",
      "('hms_sims',)\n",
      "('iftech',)\n",
      "('imdigisol',)\n",
      "('information_schema',)\n",
      "('kpaudit',)\n",
      "('mmisdb',)\n",
      "('mydatabase',)\n",
      "('mysql',)\n",
      "('pcmisparaplegicc_db',)\n",
      "('performance_schema',)\n",
      "('portalkppcgkp_db',)\n",
      "('powergem',)\n",
      "('pps_sims',)\n",
      "('pps_web',)\n",
      "('rmcthbsoft',)\n",
      "('semis',)\n",
      "('sys',)\n",
      "('telenorsms',)\n",
      "('test',)\n",
      "('testing_v2',)\n",
      "('testingdb',)\n"
     ]
    }
   ],
   "source": [
    "mycursor.execute(\"SHOW DATABASES\") \n",
    "for x in mycursor: \n",
    "    print(x)"
   ]
  },
  {
   "cell_type": "markdown",
   "id": "6662f7b4",
   "metadata": {},
   "source": [
    "#### Creating new table in mysql"
   ]
  },
  {
   "cell_type": "code",
   "execution_count": 31,
   "id": "6a6cc515",
   "metadata": {},
   "outputs": [],
   "source": [
    "mydb = mysql.connector.connect( \n",
    "host=\"localhost\", \n",
    "user=\"root\", \n",
    "passwd=\"\", \n",
    "database=\"datascience\" \n",
    ") "
   ]
  },
  {
   "cell_type": "code",
   "execution_count": 18,
   "id": "999f93a3",
   "metadata": {},
   "outputs": [],
   "source": [
    "mycursor = mydb.cursor()\n",
    "mycursor.execute(\"CREATE TABLE students (name VARCHAR(255), address VARCHAR(255))\") "
   ]
  },
  {
   "cell_type": "markdown",
   "id": "3928d016",
   "metadata": {},
   "source": [
    "#### insert query"
   ]
  },
  {
   "cell_type": "code",
   "execution_count": 19,
   "id": "210ef37c",
   "metadata": {},
   "outputs": [
    {
     "name": "stdout",
     "output_type": "stream",
     "text": [
      "1 record inserted.\n"
     ]
    }
   ],
   "source": [
    "sql = \"INSERT INTO students (NAME, address) VALUES (%s, %s)\" \n",
    "val = (\"Junaid\", \"Mardan\") \n",
    "mycursor.execute(sql, val) \n",
    "mydb.commit() \n",
    "print(mycursor.rowcount, \"record inserted.\") "
   ]
  },
  {
   "cell_type": "markdown",
   "id": "d3e40189",
   "metadata": {},
   "source": [
    "#### insert query for multiple record"
   ]
  },
  {
   "cell_type": "code",
   "execution_count": 20,
   "id": "ab934421",
   "metadata": {
    "scrolled": true
   },
   "outputs": [
    {
     "name": "stdout",
     "output_type": "stream",
     "text": [
      "3 record inserted.\n"
     ]
    }
   ],
   "source": [
    "sql = \"INSERT INTO students (name, address) VALUES (%s, %s)\" \n",
    "val = [\n",
    "        ('Inam ul haq', 'Nowshera'),\n",
    "        ('Junaid', 'Swat'),\n",
    "        ('Ahad', 'Charsadda')\n",
    "]\n",
    "        \n",
    "mycursor.executemany(sql, val) \n",
    "mydb.commit() \n",
    "print(mycursor.rowcount, \"record inserted.\") "
   ]
  },
  {
   "cell_type": "markdown",
   "id": "3d455b73",
   "metadata": {},
   "source": [
    "#### select query"
   ]
  },
  {
   "cell_type": "code",
   "execution_count": 42,
   "id": "686d9a8c",
   "metadata": {},
   "outputs": [
    {
     "name": "stdout",
     "output_type": "stream",
     "text": [
      "('Adnan', 'Peshawar', 'BS-CS')\n",
      "('Junaid', 'Mardan', 'BS-SE')\n",
      "('Junaid', 'Swat', 'BS-CS')\n",
      "('Shahzaib', 'Swabi', 'BS-CS')\n"
     ]
    }
   ],
   "source": [
    "mycursor = mydb.cursor()\n",
    "mycursor.execute(\"SELECT * FROM students\") \n",
    "myresult = mycursor.fetchall() \n",
    "for x in myresult: \n",
    "    print(str(x)) \n"
   ]
  },
  {
   "cell_type": "markdown",
   "id": "101e4497",
   "metadata": {},
   "source": [
    "#### update query"
   ]
  },
  {
   "cell_type": "code",
   "execution_count": 39,
   "id": "dcfa364b",
   "metadata": {},
   "outputs": [
    {
     "name": "stdout",
     "output_type": "stream",
     "text": [
      "1 record(s) affected\n"
     ]
    }
   ],
   "source": [
    "sql = \"UPDATE students SET class='BS-CS' WHERE name = 'Shahzaib'\" \n",
    "mycursor.execute(sql) \n",
    "mydb.commit() \n",
    "print(mycursor.rowcount, \"record(s) affected\")"
   ]
  },
  {
   "cell_type": "markdown",
   "id": "d1a8d822",
   "metadata": {},
   "source": [
    "#### delete query"
   ]
  },
  {
   "cell_type": "code",
   "execution_count": 41,
   "id": "0232529e",
   "metadata": {},
   "outputs": [
    {
     "name": "stdout",
     "output_type": "stream",
     "text": [
      "1 record(s) affected\n"
     ]
    }
   ],
   "source": [
    "sql = \"DELETE FROM students where name like 'inam%'\" \n",
    "mycursor.execute(sql) \n",
    "mydb.commit() \n",
    "print(mycursor.rowcount, \"record(s) affected\")"
   ]
  },
  {
   "cell_type": "code",
   "execution_count": 14,
   "id": "33164101",
   "metadata": {},
   "outputs": [],
   "source": [
    "# fetch rows from a MySQL database table\n",
    "# Use the following methods to fetch data returned by a cursor.execute()\n",
    "# cursor.fetchall() to fetch all rows\n",
    "# cursor.fetchone() to fetch a single row\n",
    "# cursor.fetchmany(SIZE) to fetch limited rows"
   ]
  },
  {
   "cell_type": "code",
   "execution_count": 70,
   "id": "24dd89b9",
   "metadata": {},
   "outputs": [
    {
     "name": "stdout",
     "output_type": "stream",
     "text": [
      "('Adnan', 'Teacher')\n"
     ]
    }
   ],
   "source": [
    "import mysql.connector\n",
    "mydb = mysql.connector.connect( \n",
    "host=\"localhost\", \n",
    "user=\"root\", \n",
    "passwd=\"\", \n",
    "database=\"mydatabase\" \n",
    ") \n",
    "\n",
    "try:\n",
    "    mycursor = mydb.cursor()\n",
    "    sql = \"\"\"select * from customers\"\"\"\n",
    "    # set variable in query\n",
    "    mycursor.execute(sql)\n",
    "    # fetch result\n",
    "    #record = mycursor.fetchall()   # fetch all the records from the able\n",
    "    record = mycursor.fetchmany(1)  # fetch fewer rows\n",
    "    #record = mycursor.fetchone()   # fetch one rows which does not need the below loop. just print(record)\n",
    "\n",
    "    for row in record:\n",
    "        print(\"Name: = \", row[0], )\n",
    "        print(\"Address  = \", row[1], \"\\n\")\n",
    "\n",
    "except mysql.connector.Error as error:\n",
    "    print(\"Failed to get record from MySQL table: {}\".format(error))\n",
    "\n",
    "finally:\n",
    "    if mydb.is_connected():\n",
    "        mycursor.close()\n",
    "        mydb.close()\n",
    "        print(\"MySQL connection is closed\")\n"
   ]
  }
 ],
 "metadata": {
  "kernelspec": {
   "display_name": "Python 3 (ipykernel)",
   "language": "python",
   "name": "python3"
  },
  "language_info": {
   "codemirror_mode": {
    "name": "ipython",
    "version": 3
   },
   "file_extension": ".py",
   "mimetype": "text/x-python",
   "name": "python",
   "nbconvert_exporter": "python",
   "pygments_lexer": "ipython3",
   "version": "3.9.13"
  },
  "vp": {
   "vp_config_version": "1.0.0",
   "vp_menu_width": 273,
   "vp_note_display": false,
   "vp_note_width": 0,
   "vp_position": {
    "width": 278
   },
   "vp_section_display": false,
   "vp_signature": "VisualPython"
  }
 },
 "nbformat": 4,
 "nbformat_minor": 5
}
