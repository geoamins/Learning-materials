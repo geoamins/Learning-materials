{
 "cells": [
  {
   "cell_type": "code",
   "execution_count": 1,
   "id": "a63622bd",
   "metadata": {},
   "outputs": [],
   "source": [
    "import mysql.connector"
   ]
  },
  {
   "cell_type": "markdown",
   "id": "0185e994",
   "metadata": {},
   "source": [
    "#### Creating Connection b/w python and mysql"
   ]
  },
  {
   "cell_type": "code",
   "execution_count": 4,
   "id": "1afdab5a",
   "metadata": {},
   "outputs": [
    {
     "name": "stdout",
     "output_type": "stream",
     "text": [
      "<mysql.connector.connection.MySQLConnection object at 0x00000218D97DFEE0>\n"
     ]
    }
   ],
   "source": [
    "mydb = mysql.connector.connect( \n",
    "    host=\"localhost\", \n",
    "    user=\"root\", \n",
    "    passwd=\"\" \n",
    ") \n",
    "print(mydb)"
   ]
  },
  {
   "cell_type": "markdown",
   "id": "712edc14",
   "metadata": {},
   "source": [
    "#### Creating a new database in mysql server"
   ]
  },
  {
   "cell_type": "code",
   "execution_count": 5,
   "id": "41a3564b",
   "metadata": {},
   "outputs": [],
   "source": [
    "mycursor = mydb.cursor() \n",
    "mycursor.execute(\"CREATE DATABASE mydatabase\") "
   ]
  },
  {
   "cell_type": "markdown",
   "id": "1ed36dde",
   "metadata": {},
   "source": [
    "#### list all database to check whether the database is create or not"
   ]
  },
  {
   "cell_type": "code",
   "execution_count": 9,
   "id": "f235ba62",
   "metadata": {
    "collapsed": true
   },
   "outputs": [
    {
     "name": "stdout",
     "output_type": "stream",
     "text": [
      "('amazing_hrm_payroll',)\n",
      "('ber',)\n",
      "('ber_new',)\n",
      "('businessfest',)\n",
      "('cmdhmsedu_db',)\n",
      "('dams',)\n",
      "('firebase',)\n",
      "('fpma',)\n",
      "('fpma13may23',)\n",
      "('fpma_cms',)\n",
      "('fpma_online',)\n",
      "('hms',)\n",
      "('hms_sims',)\n",
      "('iftech',)\n",
      "('imdigisol',)\n",
      "('information_schema',)\n",
      "('kpaudit',)\n",
      "('mmisdb',)\n",
      "('mydatabase',)\n",
      "('mysql',)\n",
      "('pcmisparaplegicc_db',)\n",
      "('performance_schema',)\n",
      "('portalkppcgkp_db',)\n",
      "('powergem',)\n",
      "('pps_sims',)\n",
      "('pps_web',)\n",
      "('rmcthbsoft',)\n",
      "('semis',)\n",
      "('sys',)\n",
      "('telenorsms',)\n",
      "('test',)\n",
      "('testing_v2',)\n",
      "('testingdb',)\n"
     ]
    }
   ],
   "source": [
    "mycursor.execute(\"SHOW DATABASES\") \n",
    "for x in mycursor: \n",
    "    print(x)"
   ]
  },
  {
   "cell_type": "markdown",
   "id": "6662f7b4",
   "metadata": {},
   "source": [
    "#### Creating new table in mysql"
   ]
  },
  {
   "cell_type": "code",
   "execution_count": 17,
   "id": "6a6cc515",
   "metadata": {},
   "outputs": [],
   "source": [
    "mydb = mysql.connector.connect( \n",
    "host=\"localhost\", \n",
    "user=\"root\", \n",
    "passwd=\"\", \n",
    "database=\"mydatabase\" \n",
    ") "
   ]
  },
  {
   "cell_type": "code",
   "execution_count": 18,
   "id": "999f93a3",
   "metadata": {},
   "outputs": [],
   "source": [
    "mycursor = mydb.cursor()\n",
    "mycursor.execute(\"CREATE TABLE customers (name VARCHAR(255), address VARCHAR(255))\") "
   ]
  },
  {
   "cell_type": "markdown",
   "id": "3928d016",
   "metadata": {},
   "source": [
    "#### insert query"
   ]
  },
  {
   "cell_type": "code",
   "execution_count": 19,
   "id": "210ef37c",
   "metadata": {},
   "outputs": [
    {
     "name": "stdout",
     "output_type": "stream",
     "text": [
      "1 record inserted.\n"
     ]
    }
   ],
   "source": [
    "sql = \"INSERT INTO customers (name, address) VALUES (%s, %s)\" \n",
    "val = (\"Adnan\", \"Teacher\") \n",
    "mycursor.execute(sql, val) \n",
    "mydb.commit() \n",
    "print(mycursor.rowcount, \"record inserted.\") "
   ]
  },
  {
   "cell_type": "markdown",
   "id": "d3e40189",
   "metadata": {},
   "source": [
    "#### insert query for multiple record"
   ]
  },
  {
   "cell_type": "code",
   "execution_count": 21,
   "id": "ab934421",
   "metadata": {},
   "outputs": [
    {
     "name": "stdout",
     "output_type": "stream",
     "text": [
      "2 record inserted.\n"
     ]
    }
   ],
   "source": [
    "sql = \"INSERT INTO customers (name, address) VALUES (%s, %s)\" \n",
    "val = [\n",
    "        ('Inam ul haq', 'Teacher'),\n",
    "        ('Junaid', 'Student')\n",
    "]\n",
    "        \n",
    "mycursor.executemany(sql, val) \n",
    "mydb.commit() \n",
    "print(mycursor.rowcount, \"record inserted.\") "
   ]
  },
  {
   "cell_type": "markdown",
   "id": "3d455b73",
   "metadata": {},
   "source": [
    "#### select query"
   ]
  },
  {
   "cell_type": "code",
   "execution_count": 23,
   "id": "686d9a8c",
   "metadata": {},
   "outputs": [
    {
     "name": "stdout",
     "output_type": "stream",
     "text": [
      "('John', 'Highway 21')\n",
      "('Inam ul haq', 'Teacher')\n",
      "('Junaid', 'Student')\n"
     ]
    }
   ],
   "source": [
    "mycursor.execute(\"SELECT * FROM customers\") \n",
    "myresult = mycursor.fetchall() \n",
    "for x in myresult: \n",
    "    print(x) "
   ]
  },
  {
   "cell_type": "markdown",
   "id": "101e4497",
   "metadata": {},
   "source": [
    "#### update query"
   ]
  },
  {
   "cell_type": "code",
   "execution_count": 25,
   "id": "dcfa364b",
   "metadata": {},
   "outputs": [
    {
     "name": "stdout",
     "output_type": "stream",
     "text": [
      "0 record(s) affected\n"
     ]
    }
   ],
   "source": [
    "sql = \"UPDATE customers SET address = 'abc' WHERE address = 'xyz'\" \n",
    "mycursor.execute(sql) \n",
    "mydb.commit() \n",
    "print(mycursor.rowcount, \"record(s) affected\")"
   ]
  },
  {
   "cell_type": "markdown",
   "id": "d1a8d822",
   "metadata": {},
   "source": [
    "#### delete query"
   ]
  },
  {
   "cell_type": "code",
   "execution_count": 26,
   "id": "0232529e",
   "metadata": {},
   "outputs": [
    {
     "name": "stdout",
     "output_type": "stream",
     "text": [
      "3 record(s) affected\n"
     ]
    }
   ],
   "source": [
    "sql = \"DELETE FROM customers\" \n",
    "mycursor.execute(sql) \n",
    "mydb.commit() \n",
    "print(mycursor.rowcount, \"record(s) affected\")"
   ]
  },
  {
   "cell_type": "code",
   "execution_count": null,
   "id": "33164101",
   "metadata": {},
   "outputs": [],
   "source": []
  }
 ],
 "metadata": {
  "kernelspec": {
   "display_name": "Python 3 (ipykernel)",
   "language": "python",
   "name": "python3"
  },
  "language_info": {
   "codemirror_mode": {
    "name": "ipython",
    "version": 3
   },
   "file_extension": ".py",
   "mimetype": "text/x-python",
   "name": "python",
   "nbconvert_exporter": "python",
   "pygments_lexer": "ipython3",
   "version": "3.9.13"
  }
 },
 "nbformat": 4,
 "nbformat_minor": 5
}
