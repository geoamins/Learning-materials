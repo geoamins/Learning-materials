{
 "cells": [
  {
   "cell_type": "code",
   "execution_count": 1,
   "id": "036f1e01",
   "metadata": {
    "executionInfo": {
     "elapsed": 525,
     "status": "ok",
     "timestamp": 1650131930754,
     "user": {
      "displayName": "Ghulam Mujtaba Adil",
      "userId": "04936732260816978053"
     },
     "user_tz": -300
    },
    "id": "036f1e01"
   },
   "outputs": [],
   "source": [
    "import os\n",
    "import tweepy as tw\n",
    "import pandas as pd\n",
    "import numpy as np\n",
    "from textblob import TextBlob\n",
    "import warnings\n",
    "warnings.filterwarnings('ignore')\n",
    "import spacy\n",
    "from spacy.lang.en.stop_words import STOP_WORDS as stopwords\n",
    "#pd.pandas.set_option(\"display.max_rows\",None)\n",
    "#pd.pandas.set_option(\"display.max_columns\",None)"
   ]
  },
  {
   "cell_type": "markdown",
   "id": "ad0fe119",
   "metadata": {},
   "source": [
    "# Defining Keys To Extract Tweets"
   ]
  },
  {
   "cell_type": "code",
   "execution_count": 2,
   "id": "2414556a",
   "metadata": {},
   "outputs": [],
   "source": [
    "consumer_key= 'KJDaXnGILUPvXWzRsfqRTkhS4'\n",
    "consumer_secret= 'slDfuX2IlZVNq1YULlQmDb0SFt5Mwd7OXg7c4kcDlTmoC9j2Gi'\n",
    "\n",
    "access_token= '957674462354296832-DWy0VORcotEOQUDOLuaXLK5EoTkpoeY'\n",
    "access_token_secret= 'UldzES3dvBEjhILM3oguMK8dmbeeQejnpxKMjXyVRCisC'"
   ]
  },
  {
   "cell_type": "code",
   "execution_count": 3,
   "id": "3c003a0b",
   "metadata": {},
   "outputs": [],
   "source": [
    "auth = tw.OAuthHandler(consumer_key, consumer_secret)\n",
    "\n",
    "auth.set_access_token(access_token, access_token_secret)\n",
    "\n",
    "api = tw.API(auth, wait_on_rate_limit=True)\n",
    "\n"
   ]
  },
  {
   "cell_type": "code",
   "execution_count": 4,
   "id": "b935de6d",
   "metadata": {},
   "outputs": [],
   "source": [
    "search_words = \"#امپورٹڈ_حکومت_نامنظور\"\n",
    "date_since = \"2022-04-09\""
   ]
  },
  {
   "cell_type": "code",
   "execution_count": null,
   "id": "341d8970",
   "metadata": {},
   "outputs": [],
   "source": [
    "tweets = tw.Cursor(api.search_tweets,\n",
    "              q=search_words,\n",
    "              lang=\"en\"\n",
    "              ).items(2000)\n",
    "tweets"
   ]
  },
  {
   "cell_type": "code",
   "execution_count": null,
   "id": "01210655",
   "metadata": {},
   "outputs": [],
   "source": [
    "data=[]\n",
    "\n",
    "for i in tweets:\n",
    "    final_text=i.text.replace('RT','')\n",
    "    if(final_text.startswith(' @')):\n",
    "        position=final_text.index(':')\n",
    "        final_text=final_text[position+2:]\n",
    "        \n",
    "    if(final_text.startswith('@')):\n",
    "        position=final_text.index(' ')\n",
    "        final_text=final_text[position+1:]\n",
    "           \n",
    "    data.append(final_text)\n",
    " \n",
    "  \n",
    "        \n",
    "    print(final_text)"
   ]
  },
  {
   "cell_type": "markdown",
   "id": "9a23dd93",
   "metadata": {},
   "source": [
    "# Making a DataFrame of all the Retrieved Tweets"
   ]
  },
  {
   "cell_type": "code",
   "execution_count": null,
   "id": "1af1a858",
   "metadata": {},
   "outputs": [],
   "source": [
    "data = pd.DataFrame(data=data, \n",
    "                    columns=[\"Tweet Text\"])\n",
    "data.to_csv('tweet_text.csv')"
   ]
  },
  {
   "cell_type": "code",
   "execution_count": 2,
   "id": "d8a8ef24",
   "metadata": {},
   "outputs": [],
   "source": [
    "data=pd.read_csv(\"tweet_text.csv\")"
   ]
  },
  {
   "cell_type": "code",
   "execution_count": 3,
   "id": "47ab5158",
   "metadata": {},
   "outputs": [
    {
     "data": {
      "text/html": [
       "<div>\n",
       "<style scoped>\n",
       "    .dataframe tbody tr th:only-of-type {\n",
       "        vertical-align: middle;\n",
       "    }\n",
       "\n",
       "    .dataframe tbody tr th {\n",
       "        vertical-align: top;\n",
       "    }\n",
       "\n",
       "    .dataframe thead th {\n",
       "        text-align: right;\n",
       "    }\n",
       "</style>\n",
       "<table border=\"1\" class=\"dataframe\">\n",
       "  <thead>\n",
       "    <tr style=\"text-align: right;\">\n",
       "      <th></th>\n",
       "      <th>Unnamed: 0</th>\n",
       "      <th>Tweet Text</th>\n",
       "    </tr>\n",
       "  </thead>\n",
       "  <tbody>\n",
       "    <tr>\n",
       "      <th>0</th>\n",
       "      <td>0</td>\n",
       "      <td>Leaders Must be close enough to relate to othe...</td>\n",
       "    </tr>\n",
       "    <tr>\n",
       "      <th>1</th>\n",
       "      <td>1</td>\n",
       "      <td>Leaders Must be close enough to relate to othe...</td>\n",
       "    </tr>\n",
       "    <tr>\n",
       "      <th>2</th>\n",
       "      <td>2</td>\n",
       "      <td>Leaders Must be close enough to relate to othe...</td>\n",
       "    </tr>\n",
       "    <tr>\n",
       "      <th>3</th>\n",
       "      <td>3</td>\n",
       "      <td>I am New on Twitter Plz Follow Me 😁\\n@amalqa_\\...</td>\n",
       "    </tr>\n",
       "    <tr>\n",
       "      <th>4</th>\n",
       "      <td>4</td>\n",
       "      <td>Chairman PTI @ImranKhanPTI earlier today, in B...</td>\n",
       "    </tr>\n",
       "    <tr>\n",
       "      <th>...</th>\n",
       "      <td>...</td>\n",
       "      <td>...</td>\n",
       "    </tr>\n",
       "    <tr>\n",
       "      <th>995</th>\n",
       "      <td>995</td>\n",
       "      <td>Expected performance of Imported Cabinat will ...</td>\n",
       "    </tr>\n",
       "    <tr>\n",
       "      <th>996</th>\n",
       "      <td>996</td>\n",
       "      <td>Reached Lahore \\n\\n#امپورٹڈ_حکومت_نامنظور</td>\n",
       "    </tr>\n",
       "    <tr>\n",
       "      <th>997</th>\n",
       "      <td>997</td>\n",
       "      <td>A professional man like Dr Faisal Sultan is re...</td>\n",
       "    </tr>\n",
       "    <tr>\n",
       "      <th>998</th>\n",
       "      <td>998</td>\n",
       "      <td>Qadir Patel was arrested for working with Uzai...</td>\n",
       "    </tr>\n",
       "    <tr>\n",
       "      <th>999</th>\n",
       "      <td>999</td>\n",
       "      <td>A horrible downgrade in Health Ministry\\n\\nAbd...</td>\n",
       "    </tr>\n",
       "  </tbody>\n",
       "</table>\n",
       "<p>1000 rows × 2 columns</p>\n",
       "</div>"
      ],
      "text/plain": [
       "     Unnamed: 0                                         Tweet Text\n",
       "0             0  Leaders Must be close enough to relate to othe...\n",
       "1             1  Leaders Must be close enough to relate to othe...\n",
       "2             2  Leaders Must be close enough to relate to othe...\n",
       "3             3  I am New on Twitter Plz Follow Me 😁\\n@amalqa_\\...\n",
       "4             4  Chairman PTI @ImranKhanPTI earlier today, in B...\n",
       "..          ...                                                ...\n",
       "995         995  Expected performance of Imported Cabinat will ...\n",
       "996         996          Reached Lahore \\n\\n#امپورٹڈ_حکومت_نامنظور\n",
       "997         997  A professional man like Dr Faisal Sultan is re...\n",
       "998         998  Qadir Patel was arrested for working with Uzai...\n",
       "999         999  A horrible downgrade in Health Ministry\\n\\nAbd...\n",
       "\n",
       "[1000 rows x 2 columns]"
      ]
     },
     "execution_count": 3,
     "metadata": {},
     "output_type": "execute_result"
    }
   ],
   "source": [
    "data"
   ]
  },
  {
   "cell_type": "code",
   "execution_count": 4,
   "id": "dfd453bf",
   "metadata": {},
   "outputs": [],
   "source": [
    "data=data.drop([\"Unnamed: 0\"],axis=\"columns\")\n"
   ]
  },
  {
   "cell_type": "code",
   "execution_count": 5,
   "id": "0de33f1c",
   "metadata": {
    "scrolled": true
   },
   "outputs": [
    {
     "data": {
      "text/html": [
       "<div>\n",
       "<style scoped>\n",
       "    .dataframe tbody tr th:only-of-type {\n",
       "        vertical-align: middle;\n",
       "    }\n",
       "\n",
       "    .dataframe tbody tr th {\n",
       "        vertical-align: top;\n",
       "    }\n",
       "\n",
       "    .dataframe thead th {\n",
       "        text-align: right;\n",
       "    }\n",
       "</style>\n",
       "<table border=\"1\" class=\"dataframe\">\n",
       "  <thead>\n",
       "    <tr style=\"text-align: right;\">\n",
       "      <th></th>\n",
       "      <th>Tweet Text</th>\n",
       "    </tr>\n",
       "  </thead>\n",
       "  <tbody>\n",
       "    <tr>\n",
       "      <th>0</th>\n",
       "      <td>Leaders Must be close enough to relate to othe...</td>\n",
       "    </tr>\n",
       "    <tr>\n",
       "      <th>1</th>\n",
       "      <td>Leaders Must be close enough to relate to othe...</td>\n",
       "    </tr>\n",
       "    <tr>\n",
       "      <th>2</th>\n",
       "      <td>Leaders Must be close enough to relate to othe...</td>\n",
       "    </tr>\n",
       "    <tr>\n",
       "      <th>3</th>\n",
       "      <td>I am New on Twitter Plz Follow Me 😁\\n@amalqa_\\...</td>\n",
       "    </tr>\n",
       "    <tr>\n",
       "      <th>4</th>\n",
       "      <td>Chairman PTI @ImranKhanPTI earlier today, in B...</td>\n",
       "    </tr>\n",
       "    <tr>\n",
       "      <th>...</th>\n",
       "      <td>...</td>\n",
       "    </tr>\n",
       "    <tr>\n",
       "      <th>995</th>\n",
       "      <td>Expected performance of Imported Cabinat will ...</td>\n",
       "    </tr>\n",
       "    <tr>\n",
       "      <th>996</th>\n",
       "      <td>Reached Lahore \\n\\n#امپورٹڈ_حکومت_نامنظور</td>\n",
       "    </tr>\n",
       "    <tr>\n",
       "      <th>997</th>\n",
       "      <td>A professional man like Dr Faisal Sultan is re...</td>\n",
       "    </tr>\n",
       "    <tr>\n",
       "      <th>998</th>\n",
       "      <td>Qadir Patel was arrested for working with Uzai...</td>\n",
       "    </tr>\n",
       "    <tr>\n",
       "      <th>999</th>\n",
       "      <td>A horrible downgrade in Health Ministry\\n\\nAbd...</td>\n",
       "    </tr>\n",
       "  </tbody>\n",
       "</table>\n",
       "<p>1000 rows × 1 columns</p>\n",
       "</div>"
      ],
      "text/plain": [
       "                                            Tweet Text\n",
       "0    Leaders Must be close enough to relate to othe...\n",
       "1    Leaders Must be close enough to relate to othe...\n",
       "2    Leaders Must be close enough to relate to othe...\n",
       "3    I am New on Twitter Plz Follow Me 😁\\n@amalqa_\\...\n",
       "4    Chairman PTI @ImranKhanPTI earlier today, in B...\n",
       "..                                                 ...\n",
       "995  Expected performance of Imported Cabinat will ...\n",
       "996          Reached Lahore \\n\\n#امپورٹڈ_حکومت_نامنظور\n",
       "997  A professional man like Dr Faisal Sultan is re...\n",
       "998  Qadir Patel was arrested for working with Uzai...\n",
       "999  A horrible downgrade in Health Ministry\\n\\nAbd...\n",
       "\n",
       "[1000 rows x 1 columns]"
      ]
     },
     "execution_count": 5,
     "metadata": {},
     "output_type": "execute_result"
    }
   ],
   "source": [
    "data"
   ]
  },
  {
   "cell_type": "markdown",
   "id": "33a239dc",
   "metadata": {},
   "source": [
    "# Filtering Tweets to remove Emoji's etc"
   ]
  },
  {
   "cell_type": "code",
   "execution_count": 6,
   "id": "2194f7a7",
   "metadata": {},
   "outputs": [],
   "source": [
    "from bs4 import BeautifulSoup\n",
    "import unicodedata\n",
    "import re\n",
    "def clean_text(text):\n",
    "    \n",
    "    text=re.sub(r'@[A-Za-z0-9]+', '',text) # remove @ mentions\n",
    "    text=re.sub(r'#', '',text)  #remove # symbols  \n",
    "    #text=re.sub(r'#[A-Za-z0-9]+', '',text)  #\n",
    "    text=re.sub(r'RT[\\S]+', '',text) # Removing RT\n",
    "    text=re.sub(r'\\bRT\\b',\"\",text).strip() # Remove RT\n",
    "    \n",
    "    text=re.sub(r'\\bRT\\b',\"\",text).strip()# Removing RT\n",
    "    text=re.sub(r'https?:\\/\\/\\S+', '',text)# Removes hyperlinks\n",
    "    text=' '.join(text.split()) # remove spaces\n",
    "    \n",
    "    \n",
    "    text=re.sub(r'\\n','',text)\n",
    "    text=re.sub(r'__','',text)\n",
    "    text=re.sub(r'_','',text)\n",
    "   \n",
    "    text=re.sub(r'|','',text)\n",
    "    text=re.sub(r'[^\\w ]+',\"\",text)\n",
    "    text= re.sub(r'\\d+', '', text) # remove numbers\n",
    "    text = text.encode(\"ascii\", \"ignore\").decode() #remove emojis\n",
    "    \n",
    "    text=re.sub(r'([A-Za-z0-9+._-]+@[A-Za-z0-9+._-]+\\.[A-Za-z0-9+_-]+)',\"\",text) # remove Emails\n",
    "    text=BeautifulSoup(text, 'lxml').get_text().strip()  #Remove HTML TAGS\n",
    "    text=unicodedata.normalize('NFKD', text).encode('ascii', 'ignore').decode('utf-8','ignore')  #remove accented characters\n",
    "    text=re.sub(r'[^\\w ]+',\"\",text)  # Remove Special Characters ...,,,@\\\\\n",
    "    \n",
    "    text=' '.join(text.split()) #Removing Extra Spaces and Gapes\n",
    "    \n",
    "    \n",
    "    return text"
   ]
  },
  {
   "cell_type": "code",
   "execution_count": 7,
   "id": "0e1242ae",
   "metadata": {},
   "outputs": [
    {
     "data": {
      "text/html": [
       "<div>\n",
       "<style scoped>\n",
       "    .dataframe tbody tr th:only-of-type {\n",
       "        vertical-align: middle;\n",
       "    }\n",
       "\n",
       "    .dataframe tbody tr th {\n",
       "        vertical-align: top;\n",
       "    }\n",
       "\n",
       "    .dataframe thead th {\n",
       "        text-align: right;\n",
       "    }\n",
       "</style>\n",
       "<table border=\"1\" class=\"dataframe\">\n",
       "  <thead>\n",
       "    <tr style=\"text-align: right;\">\n",
       "      <th></th>\n",
       "      <th>Tweet Text</th>\n",
       "    </tr>\n",
       "  </thead>\n",
       "  <tbody>\n",
       "    <tr>\n",
       "      <th>0</th>\n",
       "      <td>Leaders Must be close enough to relate to othe...</td>\n",
       "    </tr>\n",
       "    <tr>\n",
       "      <th>1</th>\n",
       "      <td>Leaders Must be close enough to relate to othe...</td>\n",
       "    </tr>\n",
       "    <tr>\n",
       "      <th>2</th>\n",
       "      <td>Leaders Must be close enough to relate to othe...</td>\n",
       "    </tr>\n",
       "    <tr>\n",
       "      <th>3</th>\n",
       "      <td>I am New on Twitter Plz Follow Me</td>\n",
       "    </tr>\n",
       "    <tr>\n",
       "      <th>4</th>\n",
       "      <td>Chairman PTI earlier today in Bani Gala Imran ...</td>\n",
       "    </tr>\n",
       "    <tr>\n",
       "      <th>...</th>\n",
       "      <td>...</td>\n",
       "    </tr>\n",
       "    <tr>\n",
       "      <th>995</th>\n",
       "      <td>Expected performance of Imported Cabinat will ...</td>\n",
       "    </tr>\n",
       "    <tr>\n",
       "      <th>996</th>\n",
       "      <td>Reached Lahore</td>\n",
       "    </tr>\n",
       "    <tr>\n",
       "      <th>997</th>\n",
       "      <td>A professional man like Dr Faisal Sultan is re...</td>\n",
       "    </tr>\n",
       "    <tr>\n",
       "      <th>998</th>\n",
       "      <td>Qadir Patel was arrested for working with Uzai...</td>\n",
       "    </tr>\n",
       "    <tr>\n",
       "      <th>999</th>\n",
       "      <td>A horrible downgrade in Health Ministry Abdul ...</td>\n",
       "    </tr>\n",
       "  </tbody>\n",
       "</table>\n",
       "<p>1000 rows × 1 columns</p>\n",
       "</div>"
      ],
      "text/plain": [
       "                                            Tweet Text\n",
       "0    Leaders Must be close enough to relate to othe...\n",
       "1    Leaders Must be close enough to relate to othe...\n",
       "2    Leaders Must be close enough to relate to othe...\n",
       "3                    I am New on Twitter Plz Follow Me\n",
       "4    Chairman PTI earlier today in Bani Gala Imran ...\n",
       "..                                                 ...\n",
       "995  Expected performance of Imported Cabinat will ...\n",
       "996                                     Reached Lahore\n",
       "997  A professional man like Dr Faisal Sultan is re...\n",
       "998  Qadir Patel was arrested for working with Uzai...\n",
       "999  A horrible downgrade in Health Ministry Abdul ...\n",
       "\n",
       "[1000 rows x 1 columns]"
      ]
     },
     "execution_count": 7,
     "metadata": {},
     "output_type": "execute_result"
    }
   ],
   "source": [
    "data[\"Tweet Text\"]=data[\"Tweet Text\"].apply(clean_text)\n",
    "data"
   ]
  },
  {
   "cell_type": "markdown",
   "id": "60392d1a",
   "metadata": {},
   "source": [
    "# REMOVING STOPWORDS "
   ]
  },
  {
   "cell_type": "code",
   "execution_count": 8,
   "id": "bc3f202b",
   "metadata": {},
   "outputs": [],
   "source": [
    "data[\"Tweet Text\"]=data[\"Tweet Text\"].apply(lambda x: ' '.join([i for i in x.split() if i not in stopwords]))"
   ]
  },
  {
   "cell_type": "code",
   "execution_count": null,
   "id": "c2607da3",
   "metadata": {},
   "outputs": [],
   "source": []
  },
  {
   "cell_type": "markdown",
   "id": "33151ca6",
   "metadata": {},
   "source": [
    "# Convert words into its Root Form"
   ]
  },
  {
   "cell_type": "code",
   "execution_count": 9,
   "id": "b6aa6241",
   "metadata": {},
   "outputs": [],
   "source": [
    "import en_core_web_sm\n",
    "\n",
    "nlp=spacy.load(\"en_core_web_sm\")\n",
    "\n",
    "def base_conversion(x):\n",
    "    x=str(x)\n",
    "    x_list=[]\n",
    "    doc=nlp(x)\n",
    "    \n",
    "    for token in doc:\n",
    "        lemma=token.lemma_\n",
    "        if(lemma=='-PRON-' or lemma== 'be'):\n",
    "            lemma=token.text\n",
    "        x_list.append(lemma)\n",
    "    return ' '.join(x_list)"
   ]
  },
  {
   "cell_type": "code",
   "execution_count": 10,
   "id": "32716a03",
   "metadata": {},
   "outputs": [],
   "source": [
    "data[\"Tweet Text\"]=data[\"Tweet Text\"].apply(lambda x: base_conversion(x))"
   ]
  },
  {
   "cell_type": "code",
   "execution_count": null,
   "id": "7461aa66",
   "metadata": {},
   "outputs": [],
   "source": []
  },
  {
   "cell_type": "markdown",
   "id": "81d34862",
   "metadata": {},
   "source": [
    "# 20 Common Words Removal (Most frequent words Removal)"
   ]
  },
  {
   "cell_type": "code",
   "execution_count": 11,
   "id": "7d0c6e2d",
   "metadata": {},
   "outputs": [],
   "source": [
    "text=' '.join(data[\"Tweet Text\"])\n",
    "text=text.split()\n",
    "\n",
    "# finding frequency of words repeated the most\n",
    "\n",
    "freq_common=pd.Series(text).value_counts()\n",
    "# selecting top 20 words that are the most commonly occured in the dataset\n",
    "f20=freq_common[:20]\n",
    "\n",
    "data[\"Tweet Text\"]=data[\"Tweet Text\"].apply(lambda x: ' '.join([i for i in x.split() if i not in f20 ]))"
   ]
  },
  {
   "cell_type": "code",
   "execution_count": null,
   "id": "48b5abb5",
   "metadata": {},
   "outputs": [],
   "source": []
  },
  {
   "cell_type": "markdown",
   "id": "cffb6b80",
   "metadata": {},
   "source": [
    "# Rare Occuring Words Removal"
   ]
  },
  {
   "cell_type": "code",
   "execution_count": null,
   "id": "b9bc476b",
   "metadata": {},
   "outputs": [],
   "source": []
  },
  {
   "cell_type": "code",
   "execution_count": 12,
   "id": "27e5ad18",
   "metadata": {},
   "outputs": [],
   "source": [
    "text=' '.join(data[\"Tweet Text\"])\n",
    "text=text.split()\n",
    "\n",
    "freq_common=pd.Series(text).value_counts()\n",
    "# selecting top 20 words that are the most commonly occured in the dataset\n",
    "rare20=freq_common.tail(20)\n",
    "\n",
    "data[\"Tweet Text\"]=data[\"Tweet Text\"].apply(lambda x: ' '.join([i for i in x.split() if i not in rare20 ]))"
   ]
  },
  {
   "cell_type": "markdown",
   "id": "dc35d5d0",
   "metadata": {},
   "source": [
    "# Tweets Tokenized into words"
   ]
  },
  {
   "cell_type": "code",
   "execution_count": 13,
   "id": "d14a76ba",
   "metadata": {},
   "outputs": [],
   "source": [
    "#defining function for tokenization\n",
    "import re\n",
    "def tokenization(text):\n",
    "    tokens = re.split('\\\\W+',text)\n",
    "    return tokens\n",
    "#applying function to the column\n",
    "data['Tokenized_tweets']= data['Tweet Text'].apply(lambda x: tokenization(x))"
   ]
  },
  {
   "cell_type": "code",
   "execution_count": 14,
   "id": "8c571029",
   "metadata": {},
   "outputs": [
    {
     "data": {
      "text/html": [
       "<div>\n",
       "<style scoped>\n",
       "    .dataframe tbody tr th:only-of-type {\n",
       "        vertical-align: middle;\n",
       "    }\n",
       "\n",
       "    .dataframe tbody tr th {\n",
       "        vertical-align: top;\n",
       "    }\n",
       "\n",
       "    .dataframe thead th {\n",
       "        text-align: right;\n",
       "    }\n",
       "</style>\n",
       "<table border=\"1\" class=\"dataframe\">\n",
       "  <thead>\n",
       "    <tr style=\"text-align: right;\">\n",
       "      <th></th>\n",
       "      <th>Tweet Text</th>\n",
       "      <th>Tokenized_tweets</th>\n",
       "    </tr>\n",
       "  </thead>\n",
       "  <tbody>\n",
       "    <tr>\n",
       "      <th>0</th>\n",
       "      <td>leader must close relate but far ahead motivat...</td>\n",
       "      <td>[leader, must, close, relate, but, far, ahead,...</td>\n",
       "    </tr>\n",
       "    <tr>\n",
       "      <th>1</th>\n",
       "      <td>leader must close relate but far ahead motivat...</td>\n",
       "      <td>[leader, must, close, relate, but, far, ahead,...</td>\n",
       "    </tr>\n",
       "    <tr>\n",
       "      <th>2</th>\n",
       "      <td>leader must close relate but far ahead motivat...</td>\n",
       "      <td>[leader, must, close, relate, but, far, ahead,...</td>\n",
       "    </tr>\n",
       "    <tr>\n",
       "      <th>3</th>\n",
       "      <td>New Twitter plz follow</td>\n",
       "      <td>[New, Twitter, plz, follow]</td>\n",
       "    </tr>\n",
       "    <tr>\n",
       "      <th>4</th>\n",
       "      <td>Chairman PTI early today Bani Gala Peshawar to...</td>\n",
       "      <td>[Chairman, PTI, early, today, Bani, Gala, Pesh...</td>\n",
       "    </tr>\n",
       "    <tr>\n",
       "      <th>...</th>\n",
       "      <td>...</td>\n",
       "      <td>...</td>\n",
       "    </tr>\n",
       "    <tr>\n",
       "      <th>995</th>\n",
       "      <td>expect performance Imported Garbage garbage</td>\n",
       "      <td>[expect, performance, Imported, Garbage, garbage]</td>\n",
       "    </tr>\n",
       "    <tr>\n",
       "      <th>996</th>\n",
       "      <td>reach Lahore</td>\n",
       "      <td>[reach, Lahore]</td>\n",
       "    </tr>\n",
       "    <tr>\n",
       "      <th>997</th>\n",
       "      <td>Kis baat banda rona roye</td>\n",
       "      <td>[Kis, baat, banda, rona, roye]</td>\n",
       "    </tr>\n",
       "    <tr>\n",
       "      <th>998</th>\n",
       "      <td>arrest work Uzair Baloch Asim charge corruptio...</td>\n",
       "      <td>[arrest, work, Uzair, Baloch, Asim, charge, co...</td>\n",
       "    </tr>\n",
       "    <tr>\n",
       "      <th>999</th>\n",
       "      <td>horrible downgrade Health Ministry Abdul jail ...</td>\n",
       "      <td>[horrible, downgrade, Health, Ministry, Abdul,...</td>\n",
       "    </tr>\n",
       "  </tbody>\n",
       "</table>\n",
       "<p>1000 rows × 2 columns</p>\n",
       "</div>"
      ],
      "text/plain": [
       "                                            Tweet Text  \\\n",
       "0    leader must close relate but far ahead motivat...   \n",
       "1    leader must close relate but far ahead motivat...   \n",
       "2    leader must close relate but far ahead motivat...   \n",
       "3                               New Twitter plz follow   \n",
       "4    Chairman PTI early today Bani Gala Peshawar to...   \n",
       "..                                                 ...   \n",
       "995        expect performance Imported Garbage garbage   \n",
       "996                                       reach Lahore   \n",
       "997                           Kis baat banda rona roye   \n",
       "998  arrest work Uzair Baloch Asim charge corruptio...   \n",
       "999  horrible downgrade Health Ministry Abdul jail ...   \n",
       "\n",
       "                                      Tokenized_tweets  \n",
       "0    [leader, must, close, relate, but, far, ahead,...  \n",
       "1    [leader, must, close, relate, but, far, ahead,...  \n",
       "2    [leader, must, close, relate, but, far, ahead,...  \n",
       "3                          [New, Twitter, plz, follow]  \n",
       "4    [Chairman, PTI, early, today, Bani, Gala, Pesh...  \n",
       "..                                                 ...  \n",
       "995  [expect, performance, Imported, Garbage, garbage]  \n",
       "996                                    [reach, Lahore]  \n",
       "997                     [Kis, baat, banda, rona, roye]  \n",
       "998  [arrest, work, Uzair, Baloch, Asim, charge, co...  \n",
       "999  [horrible, downgrade, Health, Ministry, Abdul,...  \n",
       "\n",
       "[1000 rows x 2 columns]"
      ]
     },
     "execution_count": 14,
     "metadata": {},
     "output_type": "execute_result"
    }
   ],
   "source": [
    "data"
   ]
  },
  {
   "cell_type": "markdown",
   "id": "ee28f490",
   "metadata": {},
   "source": [
    "# Polarity and Subjectivity of Tweets"
   ]
  },
  {
   "cell_type": "code",
   "execution_count": null,
   "id": "16c90d98",
   "metadata": {},
   "outputs": [],
   "source": []
  },
  {
   "cell_type": "code",
   "execution_count": 15,
   "id": "6e193010",
   "metadata": {
    "scrolled": true
   },
   "outputs": [],
   "source": [
    "def get_subjectivity(text):\n",
    "    return TextBlob(text).sentiment.subjectivity\n",
    "\n",
    "def get_Polarity(text):\n",
    "    return TextBlob(text).sentiment.polarity\n",
    "\n",
    "data[\"Subjectivity\"]=data[\"Tweet Text\"].apply(get_subjectivity)\n",
    "data[\"Polarity\"]=data[\"Tweet Text\"].apply(get_Polarity)"
   ]
  },
  {
   "cell_type": "code",
   "execution_count": 16,
   "id": "9b85ad00",
   "metadata": {},
   "outputs": [
    {
     "data": {
      "text/html": [
       "<div>\n",
       "<style scoped>\n",
       "    .dataframe tbody tr th:only-of-type {\n",
       "        vertical-align: middle;\n",
       "    }\n",
       "\n",
       "    .dataframe tbody tr th {\n",
       "        vertical-align: top;\n",
       "    }\n",
       "\n",
       "    .dataframe thead th {\n",
       "        text-align: right;\n",
       "    }\n",
       "</style>\n",
       "<table border=\"1\" class=\"dataframe\">\n",
       "  <thead>\n",
       "    <tr style=\"text-align: right;\">\n",
       "      <th></th>\n",
       "      <th>Tweet Text</th>\n",
       "      <th>Tokenized_tweets</th>\n",
       "      <th>Subjectivity</th>\n",
       "      <th>Polarity</th>\n",
       "    </tr>\n",
       "  </thead>\n",
       "  <tbody>\n",
       "    <tr>\n",
       "      <th>0</th>\n",
       "      <td>leader must close relate but far ahead motivat...</td>\n",
       "      <td>[leader, must, close, relate, but, far, ahead,...</td>\n",
       "      <td>1.000000</td>\n",
       "      <td>0.100000</td>\n",
       "    </tr>\n",
       "    <tr>\n",
       "      <th>1</th>\n",
       "      <td>leader must close relate but far ahead motivat...</td>\n",
       "      <td>[leader, must, close, relate, but, far, ahead,...</td>\n",
       "      <td>1.000000</td>\n",
       "      <td>0.100000</td>\n",
       "    </tr>\n",
       "    <tr>\n",
       "      <th>2</th>\n",
       "      <td>leader must close relate but far ahead motivat...</td>\n",
       "      <td>[leader, must, close, relate, but, far, ahead,...</td>\n",
       "      <td>1.000000</td>\n",
       "      <td>0.100000</td>\n",
       "    </tr>\n",
       "    <tr>\n",
       "      <th>3</th>\n",
       "      <td>New Twitter plz follow</td>\n",
       "      <td>[New, Twitter, plz, follow]</td>\n",
       "      <td>0.454545</td>\n",
       "      <td>0.136364</td>\n",
       "    </tr>\n",
       "    <tr>\n",
       "      <th>4</th>\n",
       "      <td>Chairman PTI early today Bani Gala Peshawar to...</td>\n",
       "      <td>[Chairman, PTI, early, today, Bani, Gala, Pesh...</td>\n",
       "      <td>0.300000</td>\n",
       "      <td>0.100000</td>\n",
       "    </tr>\n",
       "    <tr>\n",
       "      <th>...</th>\n",
       "      <td>...</td>\n",
       "      <td>...</td>\n",
       "      <td>...</td>\n",
       "      <td>...</td>\n",
       "    </tr>\n",
       "    <tr>\n",
       "      <th>995</th>\n",
       "      <td>expect performance Imported Garbage garbage</td>\n",
       "      <td>[expect, performance, Imported, Garbage, garbage]</td>\n",
       "      <td>0.000000</td>\n",
       "      <td>0.000000</td>\n",
       "    </tr>\n",
       "    <tr>\n",
       "      <th>996</th>\n",
       "      <td>reach Lahore</td>\n",
       "      <td>[reach, Lahore]</td>\n",
       "      <td>0.000000</td>\n",
       "      <td>0.000000</td>\n",
       "    </tr>\n",
       "    <tr>\n",
       "      <th>997</th>\n",
       "      <td>Kis baat banda rona roye</td>\n",
       "      <td>[Kis, baat, banda, rona, roye]</td>\n",
       "      <td>0.000000</td>\n",
       "      <td>0.000000</td>\n",
       "    </tr>\n",
       "    <tr>\n",
       "      <th>998</th>\n",
       "      <td>arrest work Uzair Baloch Asim charge corruptio...</td>\n",
       "      <td>[arrest, work, Uzair, Baloch, Asim, charge, co...</td>\n",
       "      <td>0.000000</td>\n",
       "      <td>-0.050000</td>\n",
       "    </tr>\n",
       "    <tr>\n",
       "      <th>999</th>\n",
       "      <td>horrible downgrade Health Ministry Abdul jail ...</td>\n",
       "      <td>[horrible, downgrade, Health, Ministry, Abdul,...</td>\n",
       "      <td>0.500000</td>\n",
       "      <td>-0.550000</td>\n",
       "    </tr>\n",
       "  </tbody>\n",
       "</table>\n",
       "<p>1000 rows × 4 columns</p>\n",
       "</div>"
      ],
      "text/plain": [
       "                                            Tweet Text  \\\n",
       "0    leader must close relate but far ahead motivat...   \n",
       "1    leader must close relate but far ahead motivat...   \n",
       "2    leader must close relate but far ahead motivat...   \n",
       "3                               New Twitter plz follow   \n",
       "4    Chairman PTI early today Bani Gala Peshawar to...   \n",
       "..                                                 ...   \n",
       "995        expect performance Imported Garbage garbage   \n",
       "996                                       reach Lahore   \n",
       "997                           Kis baat banda rona roye   \n",
       "998  arrest work Uzair Baloch Asim charge corruptio...   \n",
       "999  horrible downgrade Health Ministry Abdul jail ...   \n",
       "\n",
       "                                      Tokenized_tweets  Subjectivity  Polarity  \n",
       "0    [leader, must, close, relate, but, far, ahead,...      1.000000  0.100000  \n",
       "1    [leader, must, close, relate, but, far, ahead,...      1.000000  0.100000  \n",
       "2    [leader, must, close, relate, but, far, ahead,...      1.000000  0.100000  \n",
       "3                          [New, Twitter, plz, follow]      0.454545  0.136364  \n",
       "4    [Chairman, PTI, early, today, Bani, Gala, Pesh...      0.300000  0.100000  \n",
       "..                                                 ...           ...       ...  \n",
       "995  [expect, performance, Imported, Garbage, garbage]      0.000000  0.000000  \n",
       "996                                    [reach, Lahore]      0.000000  0.000000  \n",
       "997                     [Kis, baat, banda, rona, roye]      0.000000  0.000000  \n",
       "998  [arrest, work, Uzair, Baloch, Asim, charge, co...      0.000000 -0.050000  \n",
       "999  [horrible, downgrade, Health, Ministry, Abdul,...      0.500000 -0.550000  \n",
       "\n",
       "[1000 rows x 4 columns]"
      ]
     },
     "execution_count": 16,
     "metadata": {},
     "output_type": "execute_result"
    }
   ],
   "source": [
    "data"
   ]
  },
  {
   "cell_type": "code",
   "execution_count": null,
   "id": "f59643ed",
   "metadata": {},
   "outputs": [],
   "source": []
  },
  {
   "cell_type": "markdown",
   "id": "109629d7",
   "metadata": {},
   "source": [
    "# Analyzing Tweets Negative or Positive or Neutral"
   ]
  },
  {
   "cell_type": "code",
   "execution_count": 17,
   "id": "ce185d48",
   "metadata": {},
   "outputs": [],
   "source": [
    "def getAnalysis(score):\n",
    "    if score < 0:\n",
    "        return 'Negative'\n",
    "    elif score == 0:\n",
    "        return 'Neutral'\n",
    "    else:\n",
    "        return 'Positive'\n",
    "    \n",
    "data[\"Analysis\"]=data[\"Polarity\"].apply(getAnalysis)"
   ]
  },
  {
   "cell_type": "markdown",
   "id": "1b1f775f",
   "metadata": {},
   "source": [
    "# Counting Neutral or Positive or Negative Tweets"
   ]
  },
  {
   "cell_type": "code",
   "execution_count": 18,
   "id": "38a41e04",
   "metadata": {
    "scrolled": true
   },
   "outputs": [
    {
     "data": {
      "text/plain": [
       "Neutral     599\n",
       "Positive    288\n",
       "Negative    113\n",
       "Name: Analysis, dtype: int64"
      ]
     },
     "execution_count": 18,
     "metadata": {},
     "output_type": "execute_result"
    }
   ],
   "source": [
    "data[\"Analysis\"].value_counts()"
   ]
  },
  {
   "cell_type": "code",
   "execution_count": 19,
   "id": "c3ddf3b6",
   "metadata": {
    "scrolled": true
   },
   "outputs": [
    {
     "data": {
      "text/html": [
       "<div>\n",
       "<style scoped>\n",
       "    .dataframe tbody tr th:only-of-type {\n",
       "        vertical-align: middle;\n",
       "    }\n",
       "\n",
       "    .dataframe tbody tr th {\n",
       "        vertical-align: top;\n",
       "    }\n",
       "\n",
       "    .dataframe thead th {\n",
       "        text-align: right;\n",
       "    }\n",
       "</style>\n",
       "<table border=\"1\" class=\"dataframe\">\n",
       "  <thead>\n",
       "    <tr style=\"text-align: right;\">\n",
       "      <th></th>\n",
       "      <th>Tweet Text</th>\n",
       "      <th>Tokenized_tweets</th>\n",
       "      <th>Subjectivity</th>\n",
       "      <th>Polarity</th>\n",
       "      <th>Analysis</th>\n",
       "    </tr>\n",
       "  </thead>\n",
       "  <tbody>\n",
       "    <tr>\n",
       "      <th>0</th>\n",
       "      <td>leader must close relate but far ahead motivat...</td>\n",
       "      <td>[leader, must, close, relate, but, far, ahead,...</td>\n",
       "      <td>1.000000</td>\n",
       "      <td>0.100000</td>\n",
       "      <td>Positive</td>\n",
       "    </tr>\n",
       "    <tr>\n",
       "      <th>1</th>\n",
       "      <td>leader must close relate but far ahead motivat...</td>\n",
       "      <td>[leader, must, close, relate, but, far, ahead,...</td>\n",
       "      <td>1.000000</td>\n",
       "      <td>0.100000</td>\n",
       "      <td>Positive</td>\n",
       "    </tr>\n",
       "    <tr>\n",
       "      <th>2</th>\n",
       "      <td>leader must close relate but far ahead motivat...</td>\n",
       "      <td>[leader, must, close, relate, but, far, ahead,...</td>\n",
       "      <td>1.000000</td>\n",
       "      <td>0.100000</td>\n",
       "      <td>Positive</td>\n",
       "    </tr>\n",
       "    <tr>\n",
       "      <th>3</th>\n",
       "      <td>New Twitter plz follow</td>\n",
       "      <td>[New, Twitter, plz, follow]</td>\n",
       "      <td>0.454545</td>\n",
       "      <td>0.136364</td>\n",
       "      <td>Positive</td>\n",
       "    </tr>\n",
       "    <tr>\n",
       "      <th>4</th>\n",
       "      <td>Chairman PTI early today Bani Gala Peshawar to...</td>\n",
       "      <td>[Chairman, PTI, early, today, Bani, Gala, Pesh...</td>\n",
       "      <td>0.300000</td>\n",
       "      <td>0.100000</td>\n",
       "      <td>Positive</td>\n",
       "    </tr>\n",
       "    <tr>\n",
       "      <th>...</th>\n",
       "      <td>...</td>\n",
       "      <td>...</td>\n",
       "      <td>...</td>\n",
       "      <td>...</td>\n",
       "      <td>...</td>\n",
       "    </tr>\n",
       "    <tr>\n",
       "      <th>995</th>\n",
       "      <td>expect performance Imported Garbage garbage</td>\n",
       "      <td>[expect, performance, Imported, Garbage, garbage]</td>\n",
       "      <td>0.000000</td>\n",
       "      <td>0.000000</td>\n",
       "      <td>Neutral</td>\n",
       "    </tr>\n",
       "    <tr>\n",
       "      <th>996</th>\n",
       "      <td>reach Lahore</td>\n",
       "      <td>[reach, Lahore]</td>\n",
       "      <td>0.000000</td>\n",
       "      <td>0.000000</td>\n",
       "      <td>Neutral</td>\n",
       "    </tr>\n",
       "    <tr>\n",
       "      <th>997</th>\n",
       "      <td>Kis baat banda rona roye</td>\n",
       "      <td>[Kis, baat, banda, rona, roye]</td>\n",
       "      <td>0.000000</td>\n",
       "      <td>0.000000</td>\n",
       "      <td>Neutral</td>\n",
       "    </tr>\n",
       "    <tr>\n",
       "      <th>998</th>\n",
       "      <td>arrest work Uzair Baloch Asim charge corruptio...</td>\n",
       "      <td>[arrest, work, Uzair, Baloch, Asim, charge, co...</td>\n",
       "      <td>0.000000</td>\n",
       "      <td>-0.050000</td>\n",
       "      <td>Negative</td>\n",
       "    </tr>\n",
       "    <tr>\n",
       "      <th>999</th>\n",
       "      <td>horrible downgrade Health Ministry Abdul jail ...</td>\n",
       "      <td>[horrible, downgrade, Health, Ministry, Abdul,...</td>\n",
       "      <td>0.500000</td>\n",
       "      <td>-0.550000</td>\n",
       "      <td>Negative</td>\n",
       "    </tr>\n",
       "  </tbody>\n",
       "</table>\n",
       "<p>1000 rows × 5 columns</p>\n",
       "</div>"
      ],
      "text/plain": [
       "                                            Tweet Text  \\\n",
       "0    leader must close relate but far ahead motivat...   \n",
       "1    leader must close relate but far ahead motivat...   \n",
       "2    leader must close relate but far ahead motivat...   \n",
       "3                               New Twitter plz follow   \n",
       "4    Chairman PTI early today Bani Gala Peshawar to...   \n",
       "..                                                 ...   \n",
       "995        expect performance Imported Garbage garbage   \n",
       "996                                       reach Lahore   \n",
       "997                           Kis baat banda rona roye   \n",
       "998  arrest work Uzair Baloch Asim charge corruptio...   \n",
       "999  horrible downgrade Health Ministry Abdul jail ...   \n",
       "\n",
       "                                      Tokenized_tweets  Subjectivity  \\\n",
       "0    [leader, must, close, relate, but, far, ahead,...      1.000000   \n",
       "1    [leader, must, close, relate, but, far, ahead,...      1.000000   \n",
       "2    [leader, must, close, relate, but, far, ahead,...      1.000000   \n",
       "3                          [New, Twitter, plz, follow]      0.454545   \n",
       "4    [Chairman, PTI, early, today, Bani, Gala, Pesh...      0.300000   \n",
       "..                                                 ...           ...   \n",
       "995  [expect, performance, Imported, Garbage, garbage]      0.000000   \n",
       "996                                    [reach, Lahore]      0.000000   \n",
       "997                     [Kis, baat, banda, rona, roye]      0.000000   \n",
       "998  [arrest, work, Uzair, Baloch, Asim, charge, co...      0.000000   \n",
       "999  [horrible, downgrade, Health, Ministry, Abdul,...      0.500000   \n",
       "\n",
       "     Polarity  Analysis  \n",
       "0    0.100000  Positive  \n",
       "1    0.100000  Positive  \n",
       "2    0.100000  Positive  \n",
       "3    0.136364  Positive  \n",
       "4    0.100000  Positive  \n",
       "..        ...       ...  \n",
       "995  0.000000   Neutral  \n",
       "996  0.000000   Neutral  \n",
       "997  0.000000   Neutral  \n",
       "998 -0.050000  Negative  \n",
       "999 -0.550000  Negative  \n",
       "\n",
       "[1000 rows x 5 columns]"
      ]
     },
     "execution_count": 19,
     "metadata": {},
     "output_type": "execute_result"
    }
   ],
   "source": [
    "data"
   ]
  },
  {
   "cell_type": "markdown",
   "id": "2611ca76",
   "metadata": {},
   "source": [
    "# Visualizing Tweets "
   ]
  },
  {
   "cell_type": "code",
   "execution_count": 57,
   "id": "10add625",
   "metadata": {},
   "outputs": [
    {
     "data": {
      "image/png": "[encoded data removed]",
      "text/plain": [
       "<Figure size 432x288 with 1 Axes>"
      ]
     },
     "metadata": {
      "needs_background": "light"
     },
     "output_type": "display_data"
    }
   ],
   "source": [
    "import matplotlib.pyplot as plt\n",
    "ptweets=data[data.Analysis=='Positive']\n",
    "ptweets=ptweets['Tweet Text']\n",
    "round((ptweets.shape[0]/data.shape[0])*100,1)\n",
    "## get percentage of negative tweets\n",
    "ntweets=data[data.Analysis=='Negative']\n",
    "round((ntweets.shape[0]/data.shape[0])*100,1)\n",
    "## show value counts\n",
    "data['Analysis'].value_counts()\n",
    "## plot visulatisation of count\n",
    "plt.title('Sentiment Analysis')\n",
    "plt.xlabel('Sentiments') \n",
    "plt.ylabel('Counts')\n",
    "data['Analysis'].value_counts().plot(kind='bar')\n",
    "plt.show()"
   ]
  },
  {
   "cell_type": "markdown",
   "id": "23aa6a19",
   "metadata": {},
   "source": [
    "# Words Cloud Visualization"
   ]
  },
  {
   "cell_type": "code",
   "execution_count": null,
   "id": "1164d894",
   "metadata": {},
   "outputs": [],
   "source": [
    "from wordcloud import WordCloud\n",
    "import matplotlib.pyplot as plt\n",
    "%matplotlib inline\n",
    "\n",
    "text=' '.join(data[\"Tweet Text\"])\n",
    "len(text)\n",
    "\n",
    "wc=WordCloud(width=800, height=400).generate(text)\n",
    "plt.imshow(wc)\n",
    "plt.axis(\"off\")\n",
    "plt.show()"
   ]
  },
  {
   "cell_type": "code",
   "execution_count": null,
   "id": "e261f74b",
   "metadata": {},
   "outputs": [],
   "source": []
  },
  {
   "cell_type": "markdown",
   "id": "b8e3ea84",
   "metadata": {},
   "source": [
    "# Feature Engineering"
   ]
  },
  {
   "cell_type": "code",
   "execution_count": 20,
   "id": "a16f5037",
   "metadata": {
    "scrolled": true
   },
   "outputs": [],
   "source": [
    "\n",
    "x1=data[\"Tweet Text\"]\n",
    "y=data[\"Analysis\"]\n"
   ]
  },
  {
   "cell_type": "markdown",
   "id": "317b8755",
   "metadata": {},
   "source": [
    "# Vectorizing Text to Vectors"
   ]
  },
  {
   "cell_type": "code",
   "execution_count": 22,
   "id": "67b2f072",
   "metadata": {},
   "outputs": [],
   "source": [
    "from sklearn.feature_extraction.text import TfidfVectorizer\n",
    "vectorizer=TfidfVectorizer()\n",
    "x=vectorizer.fit_transform(x1)\n",
    "\n",
    "features_names=vectorizer.get_feature_names()"
   ]
  },
  {
   "cell_type": "code",
   "execution_count": 23,
   "id": "e524dd04",
   "metadata": {
    "scrolled": true
   },
   "outputs": [
    {
     "data": {
      "text/plain": [
       "1476"
      ]
     },
     "execution_count": 23,
     "metadata": {},
     "output_type": "execute_result"
    }
   ],
   "source": [
    "len(features_names)"
   ]
  },
  {
   "cell_type": "markdown",
   "id": "01dd61b8",
   "metadata": {},
   "source": [
    "+ Converting Vectorized Data to Array because Model doesn't Understands Sparse Matrix Data generated from TFID Vectorizer"
   ]
  },
  {
   "cell_type": "code",
   "execution_count": 24,
   "id": "997e5777",
   "metadata": {},
   "outputs": [
    {
     "data": {
      "text/plain": [
       "array([[0., 0., 0., ..., 0., 0., 0.],\n",
       "       [0., 0., 0., ..., 0., 0., 0.],\n",
       "       [0., 0., 0., ..., 0., 0., 0.],\n",
       "       ...,\n",
       "       [0., 0., 0., ..., 0., 0., 0.],\n",
       "       [0., 0., 0., ..., 0., 0., 0.],\n",
       "       [0., 0., 0., ..., 0., 0., 0.]])"
      ]
     },
     "execution_count": 24,
     "metadata": {},
     "output_type": "execute_result"
    }
   ],
   "source": [
    "x=x.toarray()\n",
    "x"
   ]
  },
  {
   "cell_type": "code",
   "execution_count": 25,
   "id": "4afd50b9",
   "metadata": {
    "scrolled": true
   },
   "outputs": [
    {
     "data": {
      "text/plain": [
       "(1000, 1476)"
      ]
     },
     "execution_count": 25,
     "metadata": {},
     "output_type": "execute_result"
    }
   ],
   "source": [
    "x.shape\n"
   ]
  },
  {
   "cell_type": "code",
   "execution_count": 26,
   "id": "de38d4db",
   "metadata": {},
   "outputs": [
    {
     "data": {
      "text/html": [
       "<div>\n",
       "<style scoped>\n",
       "    .dataframe tbody tr th:only-of-type {\n",
       "        vertical-align: middle;\n",
       "    }\n",
       "\n",
       "    .dataframe tbody tr th {\n",
       "        vertical-align: top;\n",
       "    }\n",
       "\n",
       "    .dataframe thead th {\n",
       "        text-align: right;\n",
       "    }\n",
       "</style>\n",
       "<table border=\"1\" class=\"dataframe\">\n",
       "  <thead>\n",
       "    <tr style=\"text-align: right;\">\n",
       "      <th></th>\n",
       "      <th>aamir</th>\n",
       "      <th>ab</th>\n",
       "      <th>abbasi</th>\n",
       "      <th>abdul</th>\n",
       "      <th>abdur</th>\n",
       "      <th>able</th>\n",
       "      <th>absolutely</th>\n",
       "      <th>accept</th>\n",
       "      <th>acceptable</th>\n",
       "      <th>access</th>\n",
       "      <th>...</th>\n",
       "      <th>yesterday</th>\n",
       "      <th>you</th>\n",
       "      <th>your</th>\n",
       "      <th>youth</th>\n",
       "      <th>zafar</th>\n",
       "      <th>zaidi</th>\n",
       "      <th>zardari</th>\n",
       "      <th>zartaj</th>\n",
       "      <th>zindabad</th>\n",
       "      <th>zubair</th>\n",
       "    </tr>\n",
       "  </thead>\n",
       "  <tbody>\n",
       "    <tr>\n",
       "      <th>0</th>\n",
       "      <td>0.0</td>\n",
       "      <td>0.0</td>\n",
       "      <td>0.0</td>\n",
       "      <td>0.000000</td>\n",
       "      <td>0.0</td>\n",
       "      <td>0.0</td>\n",
       "      <td>0.0</td>\n",
       "      <td>0.0</td>\n",
       "      <td>0.0</td>\n",
       "      <td>0.0</td>\n",
       "      <td>...</td>\n",
       "      <td>0.0</td>\n",
       "      <td>0.0</td>\n",
       "      <td>0.0</td>\n",
       "      <td>0.0</td>\n",
       "      <td>0.0</td>\n",
       "      <td>0.0</td>\n",
       "      <td>0.0</td>\n",
       "      <td>0.0</td>\n",
       "      <td>0.0</td>\n",
       "      <td>0.0</td>\n",
       "    </tr>\n",
       "    <tr>\n",
       "      <th>1</th>\n",
       "      <td>0.0</td>\n",
       "      <td>0.0</td>\n",
       "      <td>0.0</td>\n",
       "      <td>0.000000</td>\n",
       "      <td>0.0</td>\n",
       "      <td>0.0</td>\n",
       "      <td>0.0</td>\n",
       "      <td>0.0</td>\n",
       "      <td>0.0</td>\n",
       "      <td>0.0</td>\n",
       "      <td>...</td>\n",
       "      <td>0.0</td>\n",
       "      <td>0.0</td>\n",
       "      <td>0.0</td>\n",
       "      <td>0.0</td>\n",
       "      <td>0.0</td>\n",
       "      <td>0.0</td>\n",
       "      <td>0.0</td>\n",
       "      <td>0.0</td>\n",
       "      <td>0.0</td>\n",
       "      <td>0.0</td>\n",
       "    </tr>\n",
       "    <tr>\n",
       "      <th>2</th>\n",
       "      <td>0.0</td>\n",
       "      <td>0.0</td>\n",
       "      <td>0.0</td>\n",
       "      <td>0.000000</td>\n",
       "      <td>0.0</td>\n",
       "      <td>0.0</td>\n",
       "      <td>0.0</td>\n",
       "      <td>0.0</td>\n",
       "      <td>0.0</td>\n",
       "      <td>0.0</td>\n",
       "      <td>...</td>\n",
       "      <td>0.0</td>\n",
       "      <td>0.0</td>\n",
       "      <td>0.0</td>\n",
       "      <td>0.0</td>\n",
       "      <td>0.0</td>\n",
       "      <td>0.0</td>\n",
       "      <td>0.0</td>\n",
       "      <td>0.0</td>\n",
       "      <td>0.0</td>\n",
       "      <td>0.0</td>\n",
       "    </tr>\n",
       "    <tr>\n",
       "      <th>3</th>\n",
       "      <td>0.0</td>\n",
       "      <td>0.0</td>\n",
       "      <td>0.0</td>\n",
       "      <td>0.000000</td>\n",
       "      <td>0.0</td>\n",
       "      <td>0.0</td>\n",
       "      <td>0.0</td>\n",
       "      <td>0.0</td>\n",
       "      <td>0.0</td>\n",
       "      <td>0.0</td>\n",
       "      <td>...</td>\n",
       "      <td>0.0</td>\n",
       "      <td>0.0</td>\n",
       "      <td>0.0</td>\n",
       "      <td>0.0</td>\n",
       "      <td>0.0</td>\n",
       "      <td>0.0</td>\n",
       "      <td>0.0</td>\n",
       "      <td>0.0</td>\n",
       "      <td>0.0</td>\n",
       "      <td>0.0</td>\n",
       "    </tr>\n",
       "    <tr>\n",
       "      <th>4</th>\n",
       "      <td>0.0</td>\n",
       "      <td>0.0</td>\n",
       "      <td>0.0</td>\n",
       "      <td>0.000000</td>\n",
       "      <td>0.0</td>\n",
       "      <td>0.0</td>\n",
       "      <td>0.0</td>\n",
       "      <td>0.0</td>\n",
       "      <td>0.0</td>\n",
       "      <td>0.0</td>\n",
       "      <td>...</td>\n",
       "      <td>0.0</td>\n",
       "      <td>0.0</td>\n",
       "      <td>0.0</td>\n",
       "      <td>0.0</td>\n",
       "      <td>0.0</td>\n",
       "      <td>0.0</td>\n",
       "      <td>0.0</td>\n",
       "      <td>0.0</td>\n",
       "      <td>0.0</td>\n",
       "      <td>0.0</td>\n",
       "    </tr>\n",
       "    <tr>\n",
       "      <th>...</th>\n",
       "      <td>...</td>\n",
       "      <td>...</td>\n",
       "      <td>...</td>\n",
       "      <td>...</td>\n",
       "      <td>...</td>\n",
       "      <td>...</td>\n",
       "      <td>...</td>\n",
       "      <td>...</td>\n",
       "      <td>...</td>\n",
       "      <td>...</td>\n",
       "      <td>...</td>\n",
       "      <td>...</td>\n",
       "      <td>...</td>\n",
       "      <td>...</td>\n",
       "      <td>...</td>\n",
       "      <td>...</td>\n",
       "      <td>...</td>\n",
       "      <td>...</td>\n",
       "      <td>...</td>\n",
       "      <td>...</td>\n",
       "      <td>...</td>\n",
       "    </tr>\n",
       "    <tr>\n",
       "      <th>995</th>\n",
       "      <td>0.0</td>\n",
       "      <td>0.0</td>\n",
       "      <td>0.0</td>\n",
       "      <td>0.000000</td>\n",
       "      <td>0.0</td>\n",
       "      <td>0.0</td>\n",
       "      <td>0.0</td>\n",
       "      <td>0.0</td>\n",
       "      <td>0.0</td>\n",
       "      <td>0.0</td>\n",
       "      <td>...</td>\n",
       "      <td>0.0</td>\n",
       "      <td>0.0</td>\n",
       "      <td>0.0</td>\n",
       "      <td>0.0</td>\n",
       "      <td>0.0</td>\n",
       "      <td>0.0</td>\n",
       "      <td>0.0</td>\n",
       "      <td>0.0</td>\n",
       "      <td>0.0</td>\n",
       "      <td>0.0</td>\n",
       "    </tr>\n",
       "    <tr>\n",
       "      <th>996</th>\n",
       "      <td>0.0</td>\n",
       "      <td>0.0</td>\n",
       "      <td>0.0</td>\n",
       "      <td>0.000000</td>\n",
       "      <td>0.0</td>\n",
       "      <td>0.0</td>\n",
       "      <td>0.0</td>\n",
       "      <td>0.0</td>\n",
       "      <td>0.0</td>\n",
       "      <td>0.0</td>\n",
       "      <td>...</td>\n",
       "      <td>0.0</td>\n",
       "      <td>0.0</td>\n",
       "      <td>0.0</td>\n",
       "      <td>0.0</td>\n",
       "      <td>0.0</td>\n",
       "      <td>0.0</td>\n",
       "      <td>0.0</td>\n",
       "      <td>0.0</td>\n",
       "      <td>0.0</td>\n",
       "      <td>0.0</td>\n",
       "    </tr>\n",
       "    <tr>\n",
       "      <th>997</th>\n",
       "      <td>0.0</td>\n",
       "      <td>0.0</td>\n",
       "      <td>0.0</td>\n",
       "      <td>0.000000</td>\n",
       "      <td>0.0</td>\n",
       "      <td>0.0</td>\n",
       "      <td>0.0</td>\n",
       "      <td>0.0</td>\n",
       "      <td>0.0</td>\n",
       "      <td>0.0</td>\n",
       "      <td>...</td>\n",
       "      <td>0.0</td>\n",
       "      <td>0.0</td>\n",
       "      <td>0.0</td>\n",
       "      <td>0.0</td>\n",
       "      <td>0.0</td>\n",
       "      <td>0.0</td>\n",
       "      <td>0.0</td>\n",
       "      <td>0.0</td>\n",
       "      <td>0.0</td>\n",
       "      <td>0.0</td>\n",
       "    </tr>\n",
       "    <tr>\n",
       "      <th>998</th>\n",
       "      <td>0.0</td>\n",
       "      <td>0.0</td>\n",
       "      <td>0.0</td>\n",
       "      <td>0.000000</td>\n",
       "      <td>0.0</td>\n",
       "      <td>0.0</td>\n",
       "      <td>0.0</td>\n",
       "      <td>0.0</td>\n",
       "      <td>0.0</td>\n",
       "      <td>0.0</td>\n",
       "      <td>...</td>\n",
       "      <td>0.0</td>\n",
       "      <td>0.0</td>\n",
       "      <td>0.0</td>\n",
       "      <td>0.0</td>\n",
       "      <td>0.0</td>\n",
       "      <td>0.0</td>\n",
       "      <td>0.0</td>\n",
       "      <td>0.0</td>\n",
       "      <td>0.0</td>\n",
       "      <td>0.0</td>\n",
       "    </tr>\n",
       "    <tr>\n",
       "      <th>999</th>\n",
       "      <td>0.0</td>\n",
       "      <td>0.0</td>\n",
       "      <td>0.0</td>\n",
       "      <td>0.286863</td>\n",
       "      <td>0.0</td>\n",
       "      <td>0.0</td>\n",
       "      <td>0.0</td>\n",
       "      <td>0.0</td>\n",
       "      <td>0.0</td>\n",
       "      <td>0.0</td>\n",
       "      <td>...</td>\n",
       "      <td>0.0</td>\n",
       "      <td>0.0</td>\n",
       "      <td>0.0</td>\n",
       "      <td>0.0</td>\n",
       "      <td>0.0</td>\n",
       "      <td>0.0</td>\n",
       "      <td>0.0</td>\n",
       "      <td>0.0</td>\n",
       "      <td>0.0</td>\n",
       "      <td>0.0</td>\n",
       "    </tr>\n",
       "  </tbody>\n",
       "</table>\n",
       "<p>1000 rows × 1476 columns</p>\n",
       "</div>"
      ],
      "text/plain": [
       "     aamir   ab  abbasi     abdul  abdur  able  absolutely  accept  \\\n",
       "0      0.0  0.0     0.0  0.000000    0.0   0.0         0.0     0.0   \n",
       "1      0.0  0.0     0.0  0.000000    0.0   0.0         0.0     0.0   \n",
       "2      0.0  0.0     0.0  0.000000    0.0   0.0         0.0     0.0   \n",
       "3      0.0  0.0     0.0  0.000000    0.0   0.0         0.0     0.0   \n",
       "4      0.0  0.0     0.0  0.000000    0.0   0.0         0.0     0.0   \n",
       "..     ...  ...     ...       ...    ...   ...         ...     ...   \n",
       "995    0.0  0.0     0.0  0.000000    0.0   0.0         0.0     0.0   \n",
       "996    0.0  0.0     0.0  0.000000    0.0   0.0         0.0     0.0   \n",
       "997    0.0  0.0     0.0  0.000000    0.0   0.0         0.0     0.0   \n",
       "998    0.0  0.0     0.0  0.000000    0.0   0.0         0.0     0.0   \n",
       "999    0.0  0.0     0.0  0.286863    0.0   0.0         0.0     0.0   \n",
       "\n",
       "     acceptable  access  ...  yesterday  you  your  youth  zafar  zaidi  \\\n",
       "0           0.0     0.0  ...        0.0  0.0   0.0    0.0    0.0    0.0   \n",
       "1           0.0     0.0  ...        0.0  0.0   0.0    0.0    0.0    0.0   \n",
       "2           0.0     0.0  ...        0.0  0.0   0.0    0.0    0.0    0.0   \n",
       "3           0.0     0.0  ...        0.0  0.0   0.0    0.0    0.0    0.0   \n",
       "4           0.0     0.0  ...        0.0  0.0   0.0    0.0    0.0    0.0   \n",
       "..          ...     ...  ...        ...  ...   ...    ...    ...    ...   \n",
       "995         0.0     0.0  ...        0.0  0.0   0.0    0.0    0.0    0.0   \n",
       "996         0.0     0.0  ...        0.0  0.0   0.0    0.0    0.0    0.0   \n",
       "997         0.0     0.0  ...        0.0  0.0   0.0    0.0    0.0    0.0   \n",
       "998         0.0     0.0  ...        0.0  0.0   0.0    0.0    0.0    0.0   \n",
       "999         0.0     0.0  ...        0.0  0.0   0.0    0.0    0.0    0.0   \n",
       "\n",
       "     zardari  zartaj  zindabad  zubair  \n",
       "0        0.0     0.0       0.0     0.0  \n",
       "1        0.0     0.0       0.0     0.0  \n",
       "2        0.0     0.0       0.0     0.0  \n",
       "3        0.0     0.0       0.0     0.0  \n",
       "4        0.0     0.0       0.0     0.0  \n",
       "..       ...     ...       ...     ...  \n",
       "995      0.0     0.0       0.0     0.0  \n",
       "996      0.0     0.0       0.0     0.0  \n",
       "997      0.0     0.0       0.0     0.0  \n",
       "998      0.0     0.0       0.0     0.0  \n",
       "999      0.0     0.0       0.0     0.0  \n",
       "\n",
       "[1000 rows x 1476 columns]"
      ]
     },
     "execution_count": 26,
     "metadata": {},
     "output_type": "execute_result"
    }
   ],
   "source": [
    "data2 = pd.DataFrame(data=x,columns=features_names)\n",
    "x=data2\n",
    "x"
   ]
  },
  {
   "cell_type": "markdown",
   "id": "2719aefc",
   "metadata": {},
   "source": [
    "# Smote method to Balance data"
   ]
  },
  {
   "cell_type": "code",
   "execution_count": null,
   "id": "a40f0f24",
   "metadata": {},
   "outputs": [],
   "source": []
  },
  {
   "cell_type": "code",
   "execution_count": 27,
   "id": "55d20caf",
   "metadata": {},
   "outputs": [],
   "source": [
    "from imblearn.over_sampling import SMOTE\n",
    "\n",
    "oversample = SMOTE()\n",
    "x, y = oversample.fit_resample(x, y)"
   ]
  },
  {
   "cell_type": "code",
   "execution_count": 28,
   "id": "f9564254",
   "metadata": {
    "scrolled": true
   },
   "outputs": [
    {
     "data": {
      "text/plain": [
       "Neutral     599\n",
       "Positive    599\n",
       "Negative    599\n",
       "Name: Analysis, dtype: int64"
      ]
     },
     "execution_count": 28,
     "metadata": {},
     "output_type": "execute_result"
    }
   ],
   "source": [
    "y.value_counts()"
   ]
  },
  {
   "cell_type": "markdown",
   "id": "121a984c",
   "metadata": {},
   "source": [
    "# Splitting Data into Train and Test"
   ]
  },
  {
   "cell_type": "code",
   "execution_count": null,
   "id": "c74035a6",
   "metadata": {},
   "outputs": [],
   "source": []
  },
  {
   "cell_type": "code",
   "execution_count": 29,
   "id": "ec3bae18",
   "metadata": {},
   "outputs": [],
   "source": [
    "from sklearn.model_selection import train_test_split\n",
    "x_train,x_test,y_train,y_test=train_test_split(x,y,random_state=0,train_size=0.80)\n"
   ]
  },
  {
   "cell_type": "code",
   "execution_count": null,
   "id": "dc6324c5",
   "metadata": {},
   "outputs": [],
   "source": []
  },
  {
   "cell_type": "code",
   "execution_count": 30,
   "id": "70284718",
   "metadata": {},
   "outputs": [],
   "source": [
    "from sklearn.feature_selection import VarianceThreshold, mutual_info_classif,mutual_info_regression\n",
    "from sklearn.feature_selection import SelectKBest,SelectPercentile"
   ]
  },
  {
   "cell_type": "code",
   "execution_count": 31,
   "id": "5251e18f",
   "metadata": {},
   "outputs": [
    {
     "data": {
      "text/plain": [
       "(1437, 1476)"
      ]
     },
     "execution_count": 31,
     "metadata": {},
     "output_type": "execute_result"
    }
   ],
   "source": [
    "x_train.shape"
   ]
  },
  {
   "cell_type": "markdown",
   "id": "5b86a0d9",
   "metadata": {},
   "source": [
    "# Constant Features Removal"
   ]
  },
  {
   "cell_type": "code",
   "execution_count": 32,
   "id": "1f8fe3d4",
   "metadata": {},
   "outputs": [
    {
     "data": {
      "text/plain": [
       "VarianceThreshold(threshold=0)"
      ]
     },
     "execution_count": 32,
     "metadata": {},
     "output_type": "execute_result"
    }
   ],
   "source": [
    "const_filter=VarianceThreshold(threshold=0)\n",
    "const_filter.fit(x_train)"
   ]
  },
  {
   "cell_type": "code",
   "execution_count": 33,
   "id": "34ee5fa7",
   "metadata": {},
   "outputs": [
    {
     "data": {
      "text/plain": [
       "1411"
      ]
     },
     "execution_count": 33,
     "metadata": {},
     "output_type": "execute_result"
    }
   ],
   "source": [
    "# After removing of constant features from training set\n",
    "const_filter.get_support().sum()"
   ]
  },
  {
   "cell_type": "code",
   "execution_count": 34,
   "id": "c21b5590",
   "metadata": {},
   "outputs": [
    {
     "data": {
      "text/plain": [
       "65"
      ]
     },
     "execution_count": 34,
     "metadata": {},
     "output_type": "execute_result"
    }
   ],
   "source": [
    "#columns that were constants\n",
    "\n",
    "constant_features=[not temp for temp in const_filter.get_support()]\n",
    "\n",
    "len(x.columns[constant_features])"
   ]
  },
  {
   "cell_type": "code",
   "execution_count": 35,
   "id": "05ac3291",
   "metadata": {},
   "outputs": [
    {
     "data": {
      "text/plain": [
       "(1437, 1411)"
      ]
     },
     "execution_count": 35,
     "metadata": {},
     "output_type": "execute_result"
    }
   ],
   "source": [
    "# remove all constant features from dataset\n",
    "\n",
    "x_train_filtered=const_filter.transform(x_train)\n",
    "x_test_filtered=const_filter.transform(x_test)\n",
    "x_train_filtered.shape\n"
   ]
  },
  {
   "cell_type": "code",
   "execution_count": 36,
   "id": "deef231b",
   "metadata": {
    "scrolled": true
   },
   "outputs": [
    {
     "data": {
      "text/plain": [
       "((1437, 1411), (1437, 1476))"
      ]
     },
     "execution_count": 36,
     "metadata": {},
     "output_type": "execute_result"
    }
   ],
   "source": [
    "# Comparing\n",
    "x_train_filtered.shape,x_train.shape"
   ]
  },
  {
   "cell_type": "code",
   "execution_count": null,
   "id": "72a02751",
   "metadata": {},
   "outputs": [],
   "source": []
  },
  {
   "cell_type": "markdown",
   "id": "3ca698b9",
   "metadata": {},
   "source": [
    "# Removing Duplicates Features"
   ]
  },
  {
   "cell_type": "code",
   "execution_count": 37,
   "id": "83561258",
   "metadata": {},
   "outputs": [],
   "source": [
    "x_train_dupl=x_train_filtered.T\n",
    "x_test_dupl=x_test_filtered.T"
   ]
  },
  {
   "cell_type": "code",
   "execution_count": 38,
   "id": "409f0295",
   "metadata": {},
   "outputs": [
    {
     "data": {
      "text/plain": [
       "numpy.ndarray"
      ]
     },
     "execution_count": 38,
     "metadata": {},
     "output_type": "execute_result"
    }
   ],
   "source": [
    "type(x_train_dupl)"
   ]
  },
  {
   "cell_type": "code",
   "execution_count": 39,
   "id": "ea436124",
   "metadata": {},
   "outputs": [],
   "source": [
    "x_train_dupl=pd.DataFrame(x_train_dupl)\n",
    "x_test_dupl=pd.DataFrame(x_test_dupl)"
   ]
  },
  {
   "cell_type": "code",
   "execution_count": 40,
   "id": "859a9f6d",
   "metadata": {},
   "outputs": [
    {
     "data": {
      "text/plain": [
       "0       False\n",
       "1       False\n",
       "2       False\n",
       "3       False\n",
       "4       False\n",
       "        ...  \n",
       "1406     True\n",
       "1407    False\n",
       "1408     True\n",
       "1409     True\n",
       "1410    False\n",
       "Length: 1411, dtype: bool"
      ]
     },
     "execution_count": 40,
     "metadata": {},
     "output_type": "execute_result"
    }
   ],
   "source": [
    "#Duplicated Features\n",
    "duplicate_features=x_train_dupl.duplicated()\n",
    "duplicate_features"
   ]
  },
  {
   "cell_type": "code",
   "execution_count": 41,
   "id": "3c8c2945",
   "metadata": {},
   "outputs": [],
   "source": [
    "#Features not Duplicated\n",
    "\n",
    "features_to_keep=[not index for index in duplicate_features]"
   ]
  },
  {
   "cell_type": "code",
   "execution_count": 42,
   "id": "049a3360",
   "metadata": {},
   "outputs": [],
   "source": [
    "x_train_final=x_train_dupl[features_to_keep].T\n",
    "x_test_final=x_test_dupl[features_to_keep].T"
   ]
  },
  {
   "cell_type": "code",
   "execution_count": 43,
   "id": "67fa8472",
   "metadata": {},
   "outputs": [
    {
     "data": {
      "text/plain": [
       "(1437, 772)"
      ]
     },
     "execution_count": 43,
     "metadata": {},
     "output_type": "execute_result"
    }
   ],
   "source": [
    "x_train_final.shape"
   ]
  },
  {
   "cell_type": "code",
   "execution_count": 44,
   "id": "a53fc3e1",
   "metadata": {},
   "outputs": [
    {
     "data": {
      "text/plain": [
       "(360, 772)"
      ]
     },
     "execution_count": 44,
     "metadata": {},
     "output_type": "execute_result"
    }
   ],
   "source": [
    "x_test_final.shape"
   ]
  },
  {
   "cell_type": "markdown",
   "id": "96fef842",
   "metadata": {},
   "source": [
    "# Cleaned data for training and Testing"
   ]
  },
  {
   "cell_type": "code",
   "execution_count": 45,
   "id": "723df582",
   "metadata": {
    "scrolled": true
   },
   "outputs": [
    {
     "data": {
      "text/plain": [
       "((1437, 772), (360, 772))"
      ]
     },
     "execution_count": 45,
     "metadata": {},
     "output_type": "execute_result"
    }
   ],
   "source": [
    "x_train_final.shape,x_test_final.shape"
   ]
  },
  {
   "cell_type": "code",
   "execution_count": null,
   "id": "bdecc4d1",
   "metadata": {},
   "outputs": [],
   "source": []
  },
  {
   "cell_type": "markdown",
   "id": "4c4a762e",
   "metadata": {},
   "source": [
    "# Gradient Boosting Classifier"
   ]
  },
  {
   "cell_type": "code",
   "execution_count": 46,
   "id": "545654fd",
   "metadata": {},
   "outputs": [
    {
     "data": {
      "text/plain": [
       "0.95"
      ]
     },
     "execution_count": 46,
     "metadata": {},
     "output_type": "execute_result"
    }
   ],
   "source": [
    "from sklearn.ensemble import GradientBoostingClassifier\n",
    "model2=GradientBoostingClassifier(n_estimators=100, learning_rate=1.0,max_depth=16, random_state=15)\n",
    "model2.fit(x_train_final, y_train)\n",
    "model2.score(x_test_final, y_test)"
   ]
  },
  {
   "cell_type": "markdown",
   "id": "bfa15d62",
   "metadata": {},
   "source": [
    "# Classification Report"
   ]
  },
  {
   "cell_type": "code",
   "execution_count": null,
   "id": "16292ebb",
   "metadata": {},
   "outputs": [],
   "source": []
  },
  {
   "cell_type": "code",
   "execution_count": 47,
   "id": "b5210a9e",
   "metadata": {},
   "outputs": [],
   "source": [
    "predictions=model2.predict(x_test_final)"
   ]
  },
  {
   "cell_type": "code",
   "execution_count": 48,
   "id": "146e4305",
   "metadata": {},
   "outputs": [
    {
     "name": "stdout",
     "output_type": "stream",
     "text": [
      "              precision    recall  f1-score   support\n",
      "\n",
      "    Negative       0.99      0.98      0.98       126\n",
      "     Neutral       0.88      0.98      0.93       125\n",
      "    Positive       0.99      0.88      0.93       109\n",
      "\n",
      "    accuracy                           0.95       360\n",
      "   macro avg       0.96      0.95      0.95       360\n",
      "weighted avg       0.95      0.95      0.95       360\n",
      "\n"
     ]
    }
   ],
   "source": [
    "from sklearn.metrics import classification_report\n",
    "print(classification_report(y_test,predictions))"
   ]
  },
  {
   "cell_type": "code",
   "execution_count": null,
   "id": "08ceaf0b",
   "metadata": {},
   "outputs": [],
   "source": []
  },
  {
   "cell_type": "markdown",
   "id": "774ca78b",
   "metadata": {},
   "source": [
    "# Multinomial Naive Bayes"
   ]
  },
  {
   "cell_type": "code",
   "execution_count": 49,
   "id": "cab0711a",
   "metadata": {},
   "outputs": [
    {
     "data": {
      "text/plain": [
       "0.9305555555555556"
      ]
     },
     "execution_count": 49,
     "metadata": {},
     "output_type": "execute_result"
    }
   ],
   "source": [
    "from sklearn.naive_bayes import GaussianNB, MultinomialNB, BernoulliNB\n",
    "\n",
    "model=MultinomialNB()\n",
    "model.fit(x_train_final,y_train)\n",
    "model.score(x_test_final,y_test)"
   ]
  },
  {
   "cell_type": "code",
   "execution_count": 50,
   "id": "eab6fe11",
   "metadata": {},
   "outputs": [],
   "source": [
    "predictions=model.predict(x_test_final)"
   ]
  },
  {
   "cell_type": "code",
   "execution_count": 51,
   "id": "4b701498",
   "metadata": {
    "scrolled": false
   },
   "outputs": [
    {
     "name": "stdout",
     "output_type": "stream",
     "text": [
      "              precision    recall  f1-score   support\n",
      "\n",
      "    Negative       0.98      0.99      0.99       126\n",
      "     Neutral       0.92      0.87      0.90       125\n",
      "    Positive       0.88      0.93      0.90       109\n",
      "\n",
      "    accuracy                           0.93       360\n",
      "   macro avg       0.93      0.93      0.93       360\n",
      "weighted avg       0.93      0.93      0.93       360\n",
      "\n"
     ]
    }
   ],
   "source": [
    "\n",
    "from sklearn.metrics import classification_report\n",
    "print(classification_report(y_test,predictions))"
   ]
  },
  {
   "cell_type": "code",
   "execution_count": null,
   "id": "4b7895f7",
   "metadata": {},
   "outputs": [],
   "source": []
  },
  {
   "cell_type": "markdown",
   "id": "5b993821",
   "metadata": {},
   "source": [
    "# XGB CLASSIFIER"
   ]
  },
  {
   "cell_type": "code",
   "execution_count": null,
   "id": "8ada809f",
   "metadata": {},
   "outputs": [],
   "source": []
  },
  {
   "cell_type": "code",
   "execution_count": 52,
   "id": "0a3127e4",
   "metadata": {},
   "outputs": [],
   "source": [
    "from xgboost import XGBClassifier"
   ]
  },
  {
   "cell_type": "code",
   "execution_count": 53,
   "id": "5696f608",
   "metadata": {},
   "outputs": [
    {
     "name": "stdout",
     "output_type": "stream",
     "text": [
      "[03:52:28] WARNING: C:/Users/Administrator/workspace/xgboost-win64_release_1.5.1/src/learner.cc:576: \n",
      "Parameters: { \"scale_pos_weight\" } might not be used.\n",
      "\n",
      "  This could be a false alarm, with some parameters getting used by language bindings but\n",
      "  then being mistakenly passed down to XGBoost core, or some parameter actually being used\n",
      "  but getting flagged wrongly here. Please open an issue if you find any such cases.\n",
      "\n",
      "\n",
      "[03:52:28] WARNING: C:/Users/Administrator/workspace/xgboost-win64_release_1.5.1/src/learner.cc:1115: Starting in XGBoost 1.3.0, the default evaluation metric used with the objective 'multi:softprob' was changed from 'merror' to 'mlogloss'. Explicitly set eval_metric if you'd like to restore the old behavior.\n"
     ]
    },
    {
     "data": {
      "text/plain": [
       "0.9472222222222222"
      ]
     },
     "execution_count": 53,
     "metadata": {},
     "output_type": "execute_result"
    }
   ],
   "source": [
    "xgb = XGBClassifier(\n",
    "\n",
    "    base_score=1,\n",
    "    booster='gbtree', \n",
    "    colsample_bylevel=0.9,\n",
    "    colsample_bynode=1,\n",
    "    colsample_bytree=1,\n",
    "    enable_categorical=False,\n",
    "    gamma=1, \n",
    "    gpu_id=-1, \n",
    "    importance_type=None,\n",
    "    interaction_constraints='',\n",
    "    learning_rate=0.44,\n",
    "    max_delta_step=0,\n",
    "    max_depth=3, \n",
    "    min_child_weight=1,\n",
    "    monotone_constraints='()',\n",
    "    n_estimators=500,\n",
    "    n_jobs=10,\n",
    "    num_parallel_tree=5,\n",
    "    predictor='auto',\n",
    "    random_state=10,\n",
    "    reg_alpha=0,\n",
    "    reg_lambda=1,\n",
    "    scale_pos_weight=1,\n",
    "    subsample=1, \n",
    "    sampling_method='uniform',\n",
    "    tree_method='exact',\n",
    "    validate_parameters=20, \n",
    "    verbosity=None)\n",
    "\n",
    "xgb.fit(x_train_final,y_train)\n",
    "xgb.score(x_test_final,y_test)"
   ]
  },
  {
   "cell_type": "code",
   "execution_count": 54,
   "id": "6e07afaf",
   "metadata": {
    "scrolled": true
   },
   "outputs": [],
   "source": [
    "predict=xgb.predict(x_test_final)"
   ]
  },
  {
   "cell_type": "code",
   "execution_count": 55,
   "id": "a0e9f373",
   "metadata": {},
   "outputs": [
    {
     "name": "stdout",
     "output_type": "stream",
     "text": [
      "              precision    recall  f1-score   support\n",
      "\n",
      "    Negative       0.99      0.97      0.98       126\n",
      "     Neutral       0.88      0.98      0.93       125\n",
      "    Positive       0.99      0.88      0.93       109\n",
      "\n",
      "    accuracy                           0.95       360\n",
      "   macro avg       0.95      0.94      0.95       360\n",
      "weighted avg       0.95      0.95      0.95       360\n",
      "\n"
     ]
    }
   ],
   "source": [
    "\n",
    "from sklearn.metrics import classification_report\n",
    "print(classification_report(y_test,predict))"
   ]
  },
  {
   "cell_type": "code",
   "execution_count": null,
   "id": "d9259bab",
   "metadata": {},
   "outputs": [],
   "source": []
  }
 ],
 "metadata": {
  "colab": {
   "name": "twitter api - Copy.ipynb",
   "provenance": []
  },
  "kernelspec": {
   "display_name": "Python 3",
   "language": "python",
   "name": "python3"
  },
  "language_info": {
   "codemirror_mode": {
    "name": "ipython",
    "version": 3
   },
   "file_extension": ".py",
   "mimetype": "text/x-python",
   "name": "python",
   "nbconvert_exporter": "python",
   "pygments_lexer": "ipython3",
   "version": "3.8.8"
  }
 },
 "nbformat": 4,
 "nbformat_minor": 5
}
